{
  "nbformat": 4,
  "nbformat_minor": 0,
  "metadata": {
    "accelerator": "TPU",
    "colab": {
      "name": "TPU Gravity",
      "provenance": []
    },
    "kernelspec": {
      "display_name": "Python 3",
      "name": "python3"
    },
    "language_info": {
      "name": "python"
    }
  },
  "cells": [
    {
      "cell_type": "code",
      "metadata": {
        "id": "q9KmiU44P6mK",
        "colab": {
          "base_uri": "https://localhost:8080/"
        },
        "outputId": "61061595-758f-4c00-a981-7edb27c7e93a"
      },
      "source": [
        "!pip install -q efficientnet\n",
        "!pip install -q tensorflow-addons\n",
        "!pip install -q git+https://github.com//Kevin-McIsaac/cmorlet-tensorflow@Performance --no-deps\n",
        "\n"
      ],
      "execution_count": 1,
      "outputs": [
        {
          "output_type": "stream",
          "name": "stdout",
          "text": [
            "\u001b[K     |████████████████████████████████| 50 kB 3.0 MB/s \n",
            "\u001b[K     |████████████████████████████████| 1.1 MB 4.9 MB/s \n",
            "\u001b[?25h  Building wheel for CWT (setup.py) ... \u001b[?25l\u001b[?25hdone\n"
          ]
        }
      ]
    },
    {
      "cell_type": "code",
      "metadata": {
        "colab": {
          "base_uri": "https://localhost:8080/"
        },
        "id": "PL6HI1jlP_Wd",
        "outputId": "0afae167-be81-4299-8c7d-9ec7d719a1ca"
      },
      "source": [
        "import os\n",
        "import math\n",
        "import random\n",
        "import re\n",
        "import warnings\n",
        "from pathlib import Path\n",
        "from typing import Optional, Tuple\n",
        "\n",
        "import efficientnet.tfkeras as efn\n",
        "import matplotlib.pyplot as plt\n",
        "import numpy as np\n",
        "import pandas as pd\n",
        "import seaborn as sns\n",
        "import tensorflow as tf\n",
        "import tensorflow_addons as tfa\n",
        "from scipy.signal import get_window\n",
        "from sklearn.model_selection import KFold\n",
        "from sklearn.metrics import roc_auc_score\n",
        "from tensorflow.keras import mixed_precision\n",
        "\n",
        "def get_hardware_strategy():\n",
        "\ttry:\n",
        "\t\t# TPU detection. No parameters necessary if TPU_NAME environment variable is\n",
        "\t\t# set: this is always the case on Kaggle.\n",
        "\t\ttpu = tf.distribute.cluster_resolver.TPUClusterResolver()\n",
        "\t\tprint('Running on TPU ', tpu.master())\n",
        "\texcept ValueError:\n",
        "\t\ttpu = None\n",
        "\n",
        "\tif tpu:\n",
        "\t\ttf.config.experimental_connect_to_cluster(tpu)\n",
        "\t\ttf.tpu.experimental.initialize_tpu_system(tpu)\n",
        "\t\tstrategy = tf.distribute.experimental.TPUStrategy(tpu)\n",
        "\t\ttf.config.optimizer.set_jit(True)\n",
        "\telse:\n",
        "\t\t# Default distribution strategy in Tensorflow. Works on CPU and single GPU.\n",
        "\t\tstrategy = tf.distribute.get_strategy()\n",
        "\n",
        "\tprint(\"REPLICAS: \", strategy.num_replicas_in_sync)\n",
        "\treturn tpu, strategy\n",
        "\n",
        "\n",
        "tpu, strategy = get_hardware_strategy()\n",
        "\n",
        "\n",
        "tpu, strategy = get_hardware_strategy()\n",
        "# For tf.dataset\n",
        "AUTO = tf.data.experimental.AUTOTUNE\n",
        "\n",
        "# Data access (Train tf records)\n",
        "GCS_PATH1 = \"gs://kds-0ce57d316a43123380114b5d7ad7220bd2d98bc2d2ca3c6b12066dcb\"\n",
        "GCS_PATH2 = \"gs://kds-00963e1b0402e5e11824a284b3c7b57cc1aa90a7f848ca0f70ea02c1\"\n",
        "GCS_PATH3 = \"gs://kds-0a1b764bbf29152f53ab0a3271970056596514c6dc3c05f74e5bc3ad\"\n",
        "# Data access (Test tf records)\n",
        "GCS_PATH4 = \"gs://kds-0f37e33fcfe9fece00f03f55c79d28611c576e844d1293ba786136ea\"\n",
        "GCS_PATH5 = \"gs://kds-cc48964f90b8da9c9d79a6c8c500e7aae7fd9d6dc69f243deb29b5c9\"\n",
        "print(GCS_PATH1, GCS_PATH2, GCS_PATH3, GCS_PATH4, GCS_PATH5)\n",
        "# Configuration\n",
        "EPOCHS = 18\n",
        "BATCH_SIZE = 8 * strategy.num_replicas_in_sync\n",
        "IMAGE_SIZE = [512, 512]\n",
        "# Seed\n",
        "SEED = 1991\n",
        "# Learning rate\n",
        "LR = 0.0001\n",
        "# Verbosity\n",
        "VERBOSE = 1\n",
        "\n",
        "# Training filenames directory\n",
        "TRAINING_FILENAMES = tf.io.gfile.glob(GCS_PATH1 + '/train*.tfrec') + tf.io.gfile.glob(\n",
        "\tGCS_PATH2 + '/train*.tfrec') + tf.io.gfile.glob(GCS_PATH3 + '/train*.tfrec')\n",
        "# Testing filenames directory\n",
        "TESTING_FILENAMES = tf.io.gfile.glob(GCS_PATH4 + '/test*.tfrec') + tf.io.gfile.glob(GCS_PATH5 + '/test*.tfrec')\n",
        "\n",
        "\n",
        "# Function to create cqt kernel\n",
        "def create_cqt_kernels(\n",
        "\t\tq: float,\n",
        "\t\tfs: float,\n",
        "\t\tfmin: float,\n",
        "\t\tn_bins: int = 84,\n",
        "\t\tbins_per_octave: int = 12,\n",
        "\t\tnorm: float = 1,\n",
        "\t\twindow: str = \"hann\",\n",
        "\t\tfmax: Optional[float] = None,\n",
        "\t\ttopbin_check: bool = True\n",
        ") -> Tuple[np.ndarray, int, np.ndarray, float]:\n",
        "\tfft_len = 2 ** _nextpow2(np.ceil(q * fs / fmin))\n",
        "\n",
        "\tif (fmax is not None) and (n_bins is None):\n",
        "\t\tn_bins = np.ceil(bins_per_octave * np.log2(fmax / fmin))\n",
        "\t\tfreqs = fmin * 2.0 ** (np.r_[0:n_bins] / np.float(bins_per_octave))\n",
        "\telif (fmax is None) and (n_bins is not None):\n",
        "\t\tfreqs = fmin * 2.0 ** (np.r_[0:n_bins] / np.float(bins_per_octave))\n",
        "\telse:\n",
        "\t\twarnings.warn(\"If nmax is given, n_bins will be ignored\", SyntaxWarning)\n",
        "\t\tn_bins = np.ceil(bins_per_octave * np.log2(fmax / fmin))\n",
        "\t\tfreqs = fmin * 2.0 ** (np.r_[0:n_bins] / np.float(bins_per_octave))\n",
        "\n",
        "\tif np.max(freqs) > fs / 2 and topbin_check:\n",
        "\t\traise ValueError(f\"The top bin {np.max(freqs)} Hz has exceeded the Nyquist frequency, \\\n",
        "                           please reduce the `n_bins`\")\n",
        "\n",
        "\tkernel = np.zeros((int(n_bins), int(fft_len)), dtype=np.complex64)\n",
        "\n",
        "\tlength = np.ceil(q * fs / freqs)\n",
        "\tfor k in range(0, int(n_bins)):\n",
        "\t\tfreq = freqs[k]\n",
        "\t\tl = np.ceil(q * fs / freq)\n",
        "\n",
        "\t\tif l % 2 == 1:\n",
        "\t\t\tstart = int(np.ceil(fft_len / 2.0 - l / 2.0)) - 1\n",
        "\t\telse:\n",
        "\t\t\tstart = int(np.ceil(fft_len / 2.0 - l / 2.0))\n",
        "\n",
        "\t\tsig = get_window(window, int(l), fftbins=True) * np.exp(\n",
        "\t\t\tnp.r_[-l // 2:l // 2] * 1j * 2 * np.pi * freq / fs) / l\n",
        "\n",
        "\t\tif norm:\n",
        "\t\t\tkernel[k, start:start + int(l)] = sig / np.linalg.norm(sig, norm)\n",
        "\t\telse:\n",
        "\t\t\tkernel[k, start:start + int(l)] = sig\n",
        "\treturn kernel, fft_len, length, freqs\n",
        "\n",
        "\n",
        "def _nextpow2(a: float) -> int:\n",
        "\treturn int(np.ceil(np.log2(a)))\n",
        "\n",
        "\n",
        "# Function to prepare cqt kernel\n",
        "def prepare_cqt_kernel(\n",
        "\t\tsr=22050,\n",
        "\t\thop_length=512,\n",
        "\t\tfmin=32.70,\n",
        "\t\tfmax=None,\n",
        "\t\tn_bins=84,\n",
        "\t\tbins_per_octave=12,\n",
        "\t\tnorm=1,\n",
        "\t\tfilter_scale=1,\n",
        "\t\twindow=\"hann\"\n",
        "):\n",
        "\tq = float(filter_scale) / (2 ** (1 / bins_per_octave) - 1)\n",
        "\tprint(q)\n",
        "\treturn create_cqt_kernels(q, sr, fmin, n_bins, bins_per_octave, norm, window, fmax)\n",
        "\n",
        "\n",
        "# Function to create cqt image\n",
        "from CWT.cwt import ComplexMorletCWT\n",
        "\n",
        "cwt_transform = ComplexMorletCWT(wavelet_width=8, fs=2048, lower_freq=20, upper_freq=500, n_scales=IMAGE_SIZE[0],\n",
        "                                 stride=int(np.ceil(4096 / IMAGE_SIZE[0])), output='magnitude',\n",
        "                                 data_format='channels_first')\n",
        "\n",
        "\n",
        "def create_cqt_image(wave, hop_length=16):\n",
        "\tCQTs = []\n",
        "\n",
        "\tCQT = cwt_transform(tf.expand_dims(wave, axis=0))\n",
        "\tCQTs.append(CQT)\n",
        "\treturn tf.convert_to_tensor(CQTs)\n",
        "\n",
        "\n",
        "HOP_LENGTH = 6\n",
        "cqt_kernels, KERNEL_WIDTH, lengths, _ = prepare_cqt_kernel(\n",
        "\tsr=2048,\n",
        "\thop_length=HOP_LENGTH,\n",
        "\tfmin=20,\n",
        "\tfmax=1024,\n",
        "\tbins_per_octave=9)\n",
        "LENGTHS = tf.constant(lengths, dtype=tf.float32)\n",
        "CQT_KERNELS_REAL = tf.constant(np.swapaxes(cqt_kernels.real[:, np.newaxis, :], 0, 2))\n",
        "CQT_KERNELS_IMAG = tf.constant(np.swapaxes(cqt_kernels.imag[:, np.newaxis, :], 0, 2))\n",
        "PADDING = tf.constant([[0, 0],\n",
        "                       [KERNEL_WIDTH // 2, KERNEL_WIDTH // 2],\n",
        "                       [0, 0]])\n",
        "\n",
        "\n",
        "# Function to seed everything\n",
        "def seed_everything(seed):\n",
        "\trandom.seed(seed)\n",
        "\tnp.random.seed(seed)\n",
        "\tos.environ['PYTHONHASHSEED'] = str(seed)\n",
        "\ttf.random.set_seed(seed)\n",
        "\n",
        "\n",
        "# Function to prepare image\n",
        "def prepare_image(wave,dim=512):\n",
        "\t# Decode raw\n",
        "\twave = tf.reshape(tf.io.decode_raw(wave, tf.float64), (3, 4096))\n",
        "\tscaling = tf.constant([1.5e-20, 1.5e-20, 0.5e-20], dtype=tf.float64)\n",
        "\n",
        "\tnormalized_waves = []\n",
        "\t# Normalize\n",
        "\tfor i in range(3):\n",
        "\t\tnormalized_wave = wave[i] / scaling[i]\n",
        "\t\tnormalized_waves.append(normalized_wave)\n",
        "\twave = tf.stack(normalized_waves)\n",
        "\twave = tf.cast(wave, tf.float32)\n",
        "\timage = create_cqt_image(wave, HOP_LENGTH)\n",
        "\timage = tf.transpose(image[0, 0, :, :, :])\n",
        "\timage = tf.image.resize(image, size=(dim, dim))\n",
        "\treturn tf.reshape(image, (dim, dim, 3))\n",
        "\n",
        "\n",
        "# This function parse our images and also get the target variable\n",
        "def read_labeled_tfrecord(example):\n",
        "\tLABELED_TFREC_FORMAT = {\n",
        "\t\t'wave': tf.io.FixedLenFeature([], tf.string),\n",
        "\t\t'wave_id': tf.io.FixedLenFeature([], tf.string),\n",
        "\t\t'target': tf.io.FixedLenFeature([], tf.int64)\n",
        "\t}\n",
        "\texample = tf.io.parse_single_example(example, LABELED_TFREC_FORMAT)\n",
        "\timage = prepare_image(example['wave'])\n",
        "\timage_id = example['wave_id']\n",
        "\ttarget = tf.cast(example['target'], tf.float32)\n",
        "\treturn image, image_id, target\n",
        "\n",
        "\n",
        "# This function parse our images and also get the target variable\n",
        "def read_unlabeled_tfrecord(example):\n",
        "\tLABELED_TFREC_FORMAT = {\n",
        "\t\t'wave': tf.io.FixedLenFeature([], tf.string),\n",
        "\t\t'wave_id': tf.io.FixedLenFeature([], tf.string)\n",
        "\t}\n",
        "\texample = tf.io.parse_single_example(example, LABELED_TFREC_FORMAT)\n",
        "\timage = prepare_image(example['wave'])\n",
        "\timage_id = example['wave_id']\n",
        "\treturn image, image_id\n",
        "\n",
        "\n",
        "# This function loads TF Records and parse them into tensors\n",
        "def load_dataset(filenames, ordered=False, labeled=True):\n",
        "\tignore_order = tf.data.Options()\n",
        "\tif not ordered:\n",
        "\t\tignore_order.experimental_deterministic = False\n",
        "\n",
        "\tdataset = tf.data.TFRecordDataset(filenames, num_parallel_reads=AUTO)\n",
        "\tdataset = dataset.with_options(ignore_order)\n",
        "\tdataset = dataset.map(read_labeled_tfrecord if labeled else read_unlabeled_tfrecord, num_parallel_calls=AUTO)\n",
        "\treturn dataset\n",
        "\n",
        "\n",
        "# This function is to get our training dataset\n",
        "def get_training_dataset(filenames, ordered=False, labeled=True):\n",
        "\tdataset = load_dataset(filenames, ordered=ordered, labeled=labeled)\n",
        "\tdataset = dataset.repeat()\n",
        "\tdataset = dataset.shuffle(2048)\n",
        "\tdataset = dataset.batch(BATCH_SIZE)\n",
        "\tdataset = dataset.prefetch(AUTO)\n",
        "\treturn dataset\n",
        "\n",
        "\n",
        "# This function is to get our validation and test dataset\n",
        "def get_val_test_dataset(filenames, ordered=True, labeled=True):\n",
        "\tdataset = load_dataset(filenames, ordered=ordered, labeled=labeled)\n",
        "\tdataset = dataset.batch(BATCH_SIZE)\n",
        "\tdataset = dataset.prefetch(AUTO)\n",
        "\treturn dataset\n",
        "\n",
        "\n",
        "# Function to count how many photos we have in\n",
        "def count_data_items(filenames):\n",
        "\t# The number of data items is written in the name of the .tfrec files, i.e. flowers00-230.tfrec = 230 data items\n",
        "\tn = [int(re.compile(r\"-([0-9]*)\\.\").search(filename).group(1)) for filename in filenames]\n",
        "\treturn np.sum(n)\n",
        "\n",
        "\n",
        "NUM_TRAINING_IMAGES = count_data_items(TRAINING_FILENAMES)\n",
        "NUM_TESTING_IMAGES = count_data_items(TESTING_FILENAMES)\n",
        "print(f'Dataset: {NUM_TRAINING_IMAGES} training images')\n",
        "print(f'Dataset: {NUM_TESTING_IMAGES} testing images')\n",
        "\n",
        "\n",
        "def get_lr_callback():\n",
        "\tlr_start = 0.0001\n",
        "\tlr_max = 0.000015 * BATCH_SIZE\n",
        "\tlr_min = 0.0000001\n",
        "\tlr_ramp_ep = 3\n",
        "\tlr_sus_ep = 0\n",
        "\tlr_decay = 0.7\n",
        "\n",
        "\tdef lrfn(epoch):\n",
        "\t\tif epoch < lr_ramp_ep:\n",
        "\t\t\tlr = (lr_max - lr_start) / lr_ramp_ep * epoch + lr_start\n",
        "\t\telif epoch < lr_ramp_ep + lr_sus_ep:\n",
        "\t\t\tlr = lr_max\n",
        "\t\telse:\n",
        "\t\t\tlr = (lr_max - lr_min) * lr_decay ** (epoch - lr_ramp_ep - lr_sus_ep) + lr_min\n",
        "\t\treturn lr\n",
        "\n",
        "\tlr_callback = tf.keras.callbacks.LearningRateScheduler(lrfn, verbose=VERBOSE)\n",
        "\treturn lr_callback\n",
        "\n",
        "\n",
        "# Function to create our EfficientNetB7 model\n",
        "def get_model():\n",
        "\twith strategy.scope():\n",
        "\t\tinp = tf.keras.layers.Input(shape=(*IMAGE_SIZE, 3))\n",
        "\t\tx = efn.EfficientNetB7(include_top=False, weights='imagenet')(inp)\n",
        "\t\tx = tf.keras.layers.GlobalAveragePooling2D()(x)\n",
        "\t\toutput = tf.keras.layers.Dense(1, activation='sigmoid')(x)\n",
        "\t\tmodel = tf.keras.models.Model(inputs=[inp], outputs=[output])\n",
        "\t\topt = tf.keras.optimizers.Adam(learning_rate=LR)\n",
        "\t\topt = tfa.optimizers.SWA(opt)\n",
        "\t\tmodel.compile(\n",
        "\t\t\toptimizer=opt,\n",
        "\t\t\tloss=[tf.keras.losses.BinaryCrossentropy()],\n",
        "\t\t\tmetrics=[tf.keras.metrics.AUC()]\n",
        "\t\t)\n",
        "\t\treturn model\n",
        "\n",
        "\n",
        "options = tf.train.CheckpointOptions(experimental_io_device=\"/job:localhost\")\n",
        "model_checkpoint_callback = tf.keras.callbacks.ModelCheckpoint(\n",
        "\tfilepath=\"Temp.h5\",\n",
        "\tsave_weights_only=True,\n",
        "\tmonitor='auc',\n",
        "\tmode='max',\n",
        "\tsave_best_only=True, options=options)\n",
        "\n",
        "from tensorflow.keras import backend as K\n",
        "\n",
        "\n",
        "# Function to train a model with 100% of the data\n",
        "def train_and_evaluate():\n",
        "\tprint('\\n')\n",
        "\tprint('-' * 50)\n",
        "\tprint(f'Training EFFB7 with 100% of the data with seed {SEED} for {EPOCHS} epochs')\n",
        "\tif tpu:\n",
        "\t\ttf.tpu.experimental.initialize_tpu_system(tpu)\n",
        "\ttrain_dataset = get_training_dataset(TRAINING_FILENAMES, ordered=False, labeled=True)\n",
        "\ttrain_dataset = train_dataset.map(lambda image, image_id, target: (image, target))\n",
        "\tSTEPS_PER_EPOCH = NUM_TRAINING_IMAGES // (BATCH_SIZE * 4)\n",
        "\tK.clear_session()\n",
        "\t# Seed everything\n",
        "\tseed_everything(SEED)\n",
        "\tmodel = get_model()\n",
        "\thistory = model.fit(train_dataset,\n",
        "\t                    steps_per_epoch=STEPS_PER_EPOCH,\n",
        "\t                    epochs=EPOCHS,\n",
        "\t                    callbacks=[get_lr_callback(),model_checkpoint_callback],\n",
        "\t                    verbose=VERBOSE)\n",
        "\tmodel.load_weights(\"Temp.h5\", options=options)\n",
        "\t\n",
        "\tprint('\\n')\n",
        "\tprint('-' * 50)\n",
        "\tprint('Test inference...')\n",
        "\t# Predict the test set\n",
        "\tdataset = get_val_test_dataset(TESTING_FILENAMES, ordered=True, labeled=False)\n",
        "\timage = dataset.map(lambda image, image_id: image)\n",
        "\ttest_predictions = model.predict(image).astype(np.float32).reshape(-1)\n",
        "\t# Get the test set image_id\n",
        "\timage_id = dataset.map(lambda image, image_id: image_id).unbatch()\n",
        "\timage_id = next(iter(image_id.batch(NUM_TESTING_IMAGES))).numpy().astype('U')\n",
        "\t# Create dataframe output\n",
        "\ttest_df = pd.DataFrame({'id': image_id, 'target': test_predictions})\n",
        "\t# Save test dataframe to disk\n",
        "\ttest_df.to_csv(f'TEST_EfficientNetB7_{IMAGE_SIZE[0]}_{SEED}.csv', index=False)\n",
        "\n",
        "\n",
        "train_and_evaluate()\n"
      ],
      "execution_count": null,
      "outputs": [
        {
          "metadata": {
            "tags": null
          },
          "name": "stdout",
          "output_type": "stream",
          "text": [
            "Running on TPU  grpc://10.27.255.10:8470\n",
            "INFO:tensorflow:Clearing out eager caches\n"
          ]
        },
        {
          "metadata": {
            "tags": null
          },
          "name": "stderr",
          "output_type": "stream",
          "text": [
            "INFO:tensorflow:Clearing out eager caches\n"
          ]
        },
        {
          "metadata": {
            "tags": null
          },
          "name": "stdout",
          "output_type": "stream",
          "text": [
            "INFO:tensorflow:Initializing the TPU system: grpc://10.27.255.10:8470\n"
          ]
        },
        {
          "metadata": {
            "tags": null
          },
          "name": "stderr",
          "output_type": "stream",
          "text": [
            "INFO:tensorflow:Initializing the TPU system: grpc://10.27.255.10:8470\n"
          ]
        },
        {
          "metadata": {
            "tags": null
          },
          "name": "stdout",
          "output_type": "stream",
          "text": [
            "INFO:tensorflow:Finished initializing TPU system.\n"
          ]
        },
        {
          "metadata": {
            "tags": null
          },
          "name": "stderr",
          "output_type": "stream",
          "text": [
            "INFO:tensorflow:Finished initializing TPU system.\n",
            "WARNING:absl:`tf.distribute.experimental.TPUStrategy` is deprecated, please use  the non experimental symbol `tf.distribute.TPUStrategy` instead.\n"
          ]
        },
        {
          "metadata": {
            "tags": null
          },
          "name": "stdout",
          "output_type": "stream",
          "text": [
            "INFO:tensorflow:Found TPU system:\n"
          ]
        },
        {
          "metadata": {
            "tags": null
          },
          "name": "stderr",
          "output_type": "stream",
          "text": [
            "INFO:tensorflow:Found TPU system:\n"
          ]
        },
        {
          "metadata": {
            "tags": null
          },
          "name": "stdout",
          "output_type": "stream",
          "text": [
            "INFO:tensorflow:*** Num TPU Cores: 8\n"
          ]
        },
        {
          "metadata": {
            "tags": null
          },
          "name": "stderr",
          "output_type": "stream",
          "text": [
            "INFO:tensorflow:*** Num TPU Cores: 8\n"
          ]
        },
        {
          "metadata": {
            "tags": null
          },
          "name": "stdout",
          "output_type": "stream",
          "text": [
            "INFO:tensorflow:*** Num TPU Workers: 1\n"
          ]
        },
        {
          "metadata": {
            "tags": null
          },
          "name": "stderr",
          "output_type": "stream",
          "text": [
            "INFO:tensorflow:*** Num TPU Workers: 1\n"
          ]
        },
        {
          "metadata": {
            "tags": null
          },
          "name": "stdout",
          "output_type": "stream",
          "text": [
            "INFO:tensorflow:*** Num TPU Cores Per Worker: 8\n"
          ]
        },
        {
          "metadata": {
            "tags": null
          },
          "name": "stderr",
          "output_type": "stream",
          "text": [
            "INFO:tensorflow:*** Num TPU Cores Per Worker: 8\n"
          ]
        },
        {
          "metadata": {
            "tags": null
          },
          "name": "stdout",
          "output_type": "stream",
          "text": [
            "INFO:tensorflow:*** Available Device: _DeviceAttributes(/job:localhost/replica:0/task:0/device:CPU:0, CPU, 0, 0)\n"
          ]
        },
        {
          "metadata": {
            "tags": null
          },
          "name": "stderr",
          "output_type": "stream",
          "text": [
            "INFO:tensorflow:*** Available Device: _DeviceAttributes(/job:localhost/replica:0/task:0/device:CPU:0, CPU, 0, 0)\n"
          ]
        },
        {
          "metadata": {
            "tags": null
          },
          "name": "stdout",
          "output_type": "stream",
          "text": [
            "INFO:tensorflow:*** Available Device: _DeviceAttributes(/job:worker/replica:0/task:0/device:CPU:0, CPU, 0, 0)\n"
          ]
        },
        {
          "metadata": {
            "tags": null
          },
          "name": "stderr",
          "output_type": "stream",
          "text": [
            "INFO:tensorflow:*** Available Device: _DeviceAttributes(/job:worker/replica:0/task:0/device:CPU:0, CPU, 0, 0)\n"
          ]
        },
        {
          "metadata": {
            "tags": null
          },
          "name": "stdout",
          "output_type": "stream",
          "text": [
            "INFO:tensorflow:*** Available Device: _DeviceAttributes(/job:worker/replica:0/task:0/device:TPU:0, TPU, 0, 0)\n"
          ]
        },
        {
          "metadata": {
            "tags": null
          },
          "name": "stderr",
          "output_type": "stream",
          "text": [
            "INFO:tensorflow:*** Available Device: _DeviceAttributes(/job:worker/replica:0/task:0/device:TPU:0, TPU, 0, 0)\n"
          ]
        },
        {
          "metadata": {
            "tags": null
          },
          "name": "stdout",
          "output_type": "stream",
          "text": [
            "INFO:tensorflow:*** Available Device: _DeviceAttributes(/job:worker/replica:0/task:0/device:TPU:1, TPU, 0, 0)\n"
          ]
        },
        {
          "metadata": {
            "tags": null
          },
          "name": "stderr",
          "output_type": "stream",
          "text": [
            "INFO:tensorflow:*** Available Device: _DeviceAttributes(/job:worker/replica:0/task:0/device:TPU:1, TPU, 0, 0)\n"
          ]
        },
        {
          "metadata": {
            "tags": null
          },
          "name": "stdout",
          "output_type": "stream",
          "text": [
            "INFO:tensorflow:*** Available Device: _DeviceAttributes(/job:worker/replica:0/task:0/device:TPU:2, TPU, 0, 0)\n"
          ]
        },
        {
          "metadata": {
            "tags": null
          },
          "name": "stderr",
          "output_type": "stream",
          "text": [
            "INFO:tensorflow:*** Available Device: _DeviceAttributes(/job:worker/replica:0/task:0/device:TPU:2, TPU, 0, 0)\n"
          ]
        },
        {
          "metadata": {
            "tags": null
          },
          "name": "stdout",
          "output_type": "stream",
          "text": [
            "INFO:tensorflow:*** Available Device: _DeviceAttributes(/job:worker/replica:0/task:0/device:TPU:3, TPU, 0, 0)\n"
          ]
        },
        {
          "metadata": {
            "tags": null
          },
          "name": "stderr",
          "output_type": "stream",
          "text": [
            "INFO:tensorflow:*** Available Device: _DeviceAttributes(/job:worker/replica:0/task:0/device:TPU:3, TPU, 0, 0)\n"
          ]
        },
        {
          "metadata": {
            "tags": null
          },
          "name": "stdout",
          "output_type": "stream",
          "text": [
            "INFO:tensorflow:*** Available Device: _DeviceAttributes(/job:worker/replica:0/task:0/device:TPU:4, TPU, 0, 0)\n"
          ]
        },
        {
          "metadata": {
            "tags": null
          },
          "name": "stderr",
          "output_type": "stream",
          "text": [
            "INFO:tensorflow:*** Available Device: _DeviceAttributes(/job:worker/replica:0/task:0/device:TPU:4, TPU, 0, 0)\n"
          ]
        },
        {
          "metadata": {
            "tags": null
          },
          "name": "stdout",
          "output_type": "stream",
          "text": [
            "INFO:tensorflow:*** Available Device: _DeviceAttributes(/job:worker/replica:0/task:0/device:TPU:5, TPU, 0, 0)\n"
          ]
        },
        {
          "metadata": {
            "tags": null
          },
          "name": "stderr",
          "output_type": "stream",
          "text": [
            "INFO:tensorflow:*** Available Device: _DeviceAttributes(/job:worker/replica:0/task:0/device:TPU:5, TPU, 0, 0)\n"
          ]
        },
        {
          "metadata": {
            "tags": null
          },
          "name": "stdout",
          "output_type": "stream",
          "text": [
            "INFO:tensorflow:*** Available Device: _DeviceAttributes(/job:worker/replica:0/task:0/device:TPU:6, TPU, 0, 0)\n"
          ]
        },
        {
          "metadata": {
            "tags": null
          },
          "name": "stderr",
          "output_type": "stream",
          "text": [
            "INFO:tensorflow:*** Available Device: _DeviceAttributes(/job:worker/replica:0/task:0/device:TPU:6, TPU, 0, 0)\n"
          ]
        },
        {
          "metadata": {
            "tags": null
          },
          "name": "stdout",
          "output_type": "stream",
          "text": [
            "INFO:tensorflow:*** Available Device: _DeviceAttributes(/job:worker/replica:0/task:0/device:TPU:7, TPU, 0, 0)\n"
          ]
        },
        {
          "metadata": {
            "tags": null
          },
          "name": "stderr",
          "output_type": "stream",
          "text": [
            "INFO:tensorflow:*** Available Device: _DeviceAttributes(/job:worker/replica:0/task:0/device:TPU:7, TPU, 0, 0)\n"
          ]
        },
        {
          "metadata": {
            "tags": null
          },
          "name": "stdout",
          "output_type": "stream",
          "text": [
            "INFO:tensorflow:*** Available Device: _DeviceAttributes(/job:worker/replica:0/task:0/device:TPU_SYSTEM:0, TPU_SYSTEM, 0, 0)\n"
          ]
        },
        {
          "metadata": {
            "tags": null
          },
          "name": "stderr",
          "output_type": "stream",
          "text": [
            "INFO:tensorflow:*** Available Device: _DeviceAttributes(/job:worker/replica:0/task:0/device:TPU_SYSTEM:0, TPU_SYSTEM, 0, 0)\n"
          ]
        },
        {
          "metadata": {
            "tags": null
          },
          "name": "stdout",
          "output_type": "stream",
          "text": [
            "INFO:tensorflow:*** Available Device: _DeviceAttributes(/job:worker/replica:0/task:0/device:XLA_CPU:0, XLA_CPU, 0, 0)\n"
          ]
        },
        {
          "metadata": {
            "tags": null
          },
          "name": "stderr",
          "output_type": "stream",
          "text": [
            "INFO:tensorflow:*** Available Device: _DeviceAttributes(/job:worker/replica:0/task:0/device:XLA_CPU:0, XLA_CPU, 0, 0)\n"
          ]
        },
        {
          "metadata": {
            "tags": null
          },
          "name": "stdout",
          "output_type": "stream",
          "text": [
            "REPLICAS:  8\n",
            "Running on TPU  grpc://10.27.255.10:8470\n",
            "INFO:tensorflow:Clearing out eager caches\n"
          ]
        },
        {
          "metadata": {
            "tags": null
          },
          "name": "stderr",
          "output_type": "stream",
          "text": [
            "INFO:tensorflow:Clearing out eager caches\n"
          ]
        },
        {
          "metadata": {
            "tags": null
          },
          "name": "stdout",
          "output_type": "stream",
          "text": [
            "WARNING:tensorflow:TPU system grpc://10.27.255.10:8470 has already been initialized. Reinitializing the TPU can cause previously created variables on TPU to be lost.\n"
          ]
        },
        {
          "metadata": {
            "tags": null
          },
          "name": "stderr",
          "output_type": "stream",
          "text": [
            "WARNING:tensorflow:TPU system grpc://10.27.255.10:8470 has already been initialized. Reinitializing the TPU can cause previously created variables on TPU to be lost.\n"
          ]
        },
        {
          "metadata": {
            "tags": null
          },
          "name": "stdout",
          "output_type": "stream",
          "text": [
            "INFO:tensorflow:Initializing the TPU system: grpc://10.27.255.10:8470\n"
          ]
        },
        {
          "metadata": {
            "tags": null
          },
          "name": "stderr",
          "output_type": "stream",
          "text": [
            "INFO:tensorflow:Initializing the TPU system: grpc://10.27.255.10:8470\n"
          ]
        },
        {
          "metadata": {
            "tags": null
          },
          "name": "stdout",
          "output_type": "stream",
          "text": [
            "INFO:tensorflow:Finished initializing TPU system.\n"
          ]
        },
        {
          "metadata": {
            "tags": null
          },
          "name": "stderr",
          "output_type": "stream",
          "text": [
            "INFO:tensorflow:Finished initializing TPU system.\n",
            "WARNING:absl:`tf.distribute.experimental.TPUStrategy` is deprecated, please use  the non experimental symbol `tf.distribute.TPUStrategy` instead.\n"
          ]
        },
        {
          "metadata": {
            "tags": null
          },
          "name": "stdout",
          "output_type": "stream",
          "text": [
            "INFO:tensorflow:Found TPU system:\n"
          ]
        },
        {
          "metadata": {
            "tags": null
          },
          "name": "stderr",
          "output_type": "stream",
          "text": [
            "INFO:tensorflow:Found TPU system:\n"
          ]
        },
        {
          "metadata": {
            "tags": null
          },
          "name": "stdout",
          "output_type": "stream",
          "text": [
            "INFO:tensorflow:*** Num TPU Cores: 8\n"
          ]
        },
        {
          "metadata": {
            "tags": null
          },
          "name": "stderr",
          "output_type": "stream",
          "text": [
            "INFO:tensorflow:*** Num TPU Cores: 8\n"
          ]
        },
        {
          "metadata": {
            "tags": null
          },
          "name": "stdout",
          "output_type": "stream",
          "text": [
            "INFO:tensorflow:*** Num TPU Workers: 1\n"
          ]
        },
        {
          "metadata": {
            "tags": null
          },
          "name": "stderr",
          "output_type": "stream",
          "text": [
            "INFO:tensorflow:*** Num TPU Workers: 1\n"
          ]
        },
        {
          "metadata": {
            "tags": null
          },
          "name": "stdout",
          "output_type": "stream",
          "text": [
            "INFO:tensorflow:*** Num TPU Cores Per Worker: 8\n"
          ]
        },
        {
          "metadata": {
            "tags": null
          },
          "name": "stderr",
          "output_type": "stream",
          "text": [
            "INFO:tensorflow:*** Num TPU Cores Per Worker: 8\n"
          ]
        },
        {
          "metadata": {
            "tags": null
          },
          "name": "stdout",
          "output_type": "stream",
          "text": [
            "INFO:tensorflow:*** Available Device: _DeviceAttributes(/job:localhost/replica:0/task:0/device:CPU:0, CPU, 0, 0)\n"
          ]
        },
        {
          "metadata": {
            "tags": null
          },
          "name": "stderr",
          "output_type": "stream",
          "text": [
            "INFO:tensorflow:*** Available Device: _DeviceAttributes(/job:localhost/replica:0/task:0/device:CPU:0, CPU, 0, 0)\n"
          ]
        },
        {
          "metadata": {
            "tags": null
          },
          "name": "stdout",
          "output_type": "stream",
          "text": [
            "INFO:tensorflow:*** Available Device: _DeviceAttributes(/job:worker/replica:0/task:0/device:CPU:0, CPU, 0, 0)\n"
          ]
        },
        {
          "metadata": {
            "tags": null
          },
          "name": "stderr",
          "output_type": "stream",
          "text": [
            "INFO:tensorflow:*** Available Device: _DeviceAttributes(/job:worker/replica:0/task:0/device:CPU:0, CPU, 0, 0)\n"
          ]
        },
        {
          "metadata": {
            "tags": null
          },
          "name": "stdout",
          "output_type": "stream",
          "text": [
            "INFO:tensorflow:*** Available Device: _DeviceAttributes(/job:worker/replica:0/task:0/device:TPU:0, TPU, 0, 0)\n"
          ]
        },
        {
          "metadata": {
            "tags": null
          },
          "name": "stderr",
          "output_type": "stream",
          "text": [
            "INFO:tensorflow:*** Available Device: _DeviceAttributes(/job:worker/replica:0/task:0/device:TPU:0, TPU, 0, 0)\n"
          ]
        },
        {
          "metadata": {
            "tags": null
          },
          "name": "stdout",
          "output_type": "stream",
          "text": [
            "INFO:tensorflow:*** Available Device: _DeviceAttributes(/job:worker/replica:0/task:0/device:TPU:1, TPU, 0, 0)\n"
          ]
        },
        {
          "metadata": {
            "tags": null
          },
          "name": "stderr",
          "output_type": "stream",
          "text": [
            "INFO:tensorflow:*** Available Device: _DeviceAttributes(/job:worker/replica:0/task:0/device:TPU:1, TPU, 0, 0)\n"
          ]
        },
        {
          "metadata": {
            "tags": null
          },
          "name": "stdout",
          "output_type": "stream",
          "text": [
            "INFO:tensorflow:*** Available Device: _DeviceAttributes(/job:worker/replica:0/task:0/device:TPU:2, TPU, 0, 0)\n"
          ]
        },
        {
          "metadata": {
            "tags": null
          },
          "name": "stderr",
          "output_type": "stream",
          "text": [
            "INFO:tensorflow:*** Available Device: _DeviceAttributes(/job:worker/replica:0/task:0/device:TPU:2, TPU, 0, 0)\n"
          ]
        },
        {
          "metadata": {
            "tags": null
          },
          "name": "stdout",
          "output_type": "stream",
          "text": [
            "INFO:tensorflow:*** Available Device: _DeviceAttributes(/job:worker/replica:0/task:0/device:TPU:3, TPU, 0, 0)\n"
          ]
        },
        {
          "metadata": {
            "tags": null
          },
          "name": "stderr",
          "output_type": "stream",
          "text": [
            "INFO:tensorflow:*** Available Device: _DeviceAttributes(/job:worker/replica:0/task:0/device:TPU:3, TPU, 0, 0)\n"
          ]
        },
        {
          "metadata": {
            "tags": null
          },
          "name": "stdout",
          "output_type": "stream",
          "text": [
            "INFO:tensorflow:*** Available Device: _DeviceAttributes(/job:worker/replica:0/task:0/device:TPU:4, TPU, 0, 0)\n"
          ]
        },
        {
          "metadata": {
            "tags": null
          },
          "name": "stderr",
          "output_type": "stream",
          "text": [
            "INFO:tensorflow:*** Available Device: _DeviceAttributes(/job:worker/replica:0/task:0/device:TPU:4, TPU, 0, 0)\n"
          ]
        },
        {
          "metadata": {
            "tags": null
          },
          "name": "stdout",
          "output_type": "stream",
          "text": [
            "INFO:tensorflow:*** Available Device: _DeviceAttributes(/job:worker/replica:0/task:0/device:TPU:5, TPU, 0, 0)\n"
          ]
        },
        {
          "metadata": {
            "tags": null
          },
          "name": "stderr",
          "output_type": "stream",
          "text": [
            "INFO:tensorflow:*** Available Device: _DeviceAttributes(/job:worker/replica:0/task:0/device:TPU:5, TPU, 0, 0)\n"
          ]
        },
        {
          "metadata": {
            "tags": null
          },
          "name": "stdout",
          "output_type": "stream",
          "text": [
            "INFO:tensorflow:*** Available Device: _DeviceAttributes(/job:worker/replica:0/task:0/device:TPU:6, TPU, 0, 0)\n"
          ]
        },
        {
          "metadata": {
            "tags": null
          },
          "name": "stderr",
          "output_type": "stream",
          "text": [
            "INFO:tensorflow:*** Available Device: _DeviceAttributes(/job:worker/replica:0/task:0/device:TPU:6, TPU, 0, 0)\n"
          ]
        },
        {
          "metadata": {
            "tags": null
          },
          "name": "stdout",
          "output_type": "stream",
          "text": [
            "INFO:tensorflow:*** Available Device: _DeviceAttributes(/job:worker/replica:0/task:0/device:TPU:7, TPU, 0, 0)\n"
          ]
        },
        {
          "metadata": {
            "tags": null
          },
          "name": "stderr",
          "output_type": "stream",
          "text": [
            "INFO:tensorflow:*** Available Device: _DeviceAttributes(/job:worker/replica:0/task:0/device:TPU:7, TPU, 0, 0)\n"
          ]
        },
        {
          "metadata": {
            "tags": null
          },
          "name": "stdout",
          "output_type": "stream",
          "text": [
            "INFO:tensorflow:*** Available Device: _DeviceAttributes(/job:worker/replica:0/task:0/device:TPU_SYSTEM:0, TPU_SYSTEM, 0, 0)\n"
          ]
        },
        {
          "metadata": {
            "tags": null
          },
          "name": "stderr",
          "output_type": "stream",
          "text": [
            "INFO:tensorflow:*** Available Device: _DeviceAttributes(/job:worker/replica:0/task:0/device:TPU_SYSTEM:0, TPU_SYSTEM, 0, 0)\n"
          ]
        },
        {
          "metadata": {
            "tags": null
          },
          "name": "stdout",
          "output_type": "stream",
          "text": [
            "INFO:tensorflow:*** Available Device: _DeviceAttributes(/job:worker/replica:0/task:0/device:XLA_CPU:0, XLA_CPU, 0, 0)\n"
          ]
        },
        {
          "metadata": {
            "tags": null
          },
          "name": "stderr",
          "output_type": "stream",
          "text": [
            "INFO:tensorflow:*** Available Device: _DeviceAttributes(/job:worker/replica:0/task:0/device:XLA_CPU:0, XLA_CPU, 0, 0)\n"
          ]
        },
        {
          "metadata": {
            "tags": null
          },
          "name": "stdout",
          "output_type": "stream",
          "text": [
            "REPLICAS:  8\n",
            "gs://kds-0ce57d316a43123380114b5d7ad7220bd2d98bc2d2ca3c6b12066dcb gs://kds-00963e1b0402e5e11824a284b3c7b57cc1aa90a7f848ca0f70ea02c1 gs://kds-0a1b764bbf29152f53ab0a3271970056596514c6dc3c05f74e5bc3ad gs://kds-0f37e33fcfe9fece00f03f55c79d28611c576e844d1293ba786136ea gs://kds-cc48964f90b8da9c9d79a6c8c500e7aae7fd9d6dc69f243deb29b5c9\n",
            "12.490672763062207\n",
            "Dataset: 560000 training images\n",
            "Dataset: 226000 testing images\n",
            "\n",
            "\n",
            "--------------------------------------------------\n",
            "Training EFFB7 with 100% of the data with seed 1991 for 18 epochs\n",
            "INFO:tensorflow:Clearing out eager caches\n"
          ]
        },
        {
          "metadata": {
            "tags": null
          },
          "name": "stderr",
          "output_type": "stream",
          "text": [
            "/usr/local/lib/python3.7/dist-packages/ipykernel_launcher.py:96: SyntaxWarning: If nmax is given, n_bins will be ignored\n",
            "INFO:tensorflow:Clearing out eager caches\n"
          ]
        },
        {
          "metadata": {
            "tags": null
          },
          "name": "stdout",
          "output_type": "stream",
          "text": [
            "WARNING:tensorflow:TPU system grpc://10.27.255.10:8470 has already been initialized. Reinitializing the TPU can cause previously created variables on TPU to be lost.\n"
          ]
        },
        {
          "metadata": {
            "tags": null
          },
          "name": "stderr",
          "output_type": "stream",
          "text": [
            "WARNING:tensorflow:TPU system grpc://10.27.255.10:8470 has already been initialized. Reinitializing the TPU can cause previously created variables on TPU to be lost.\n"
          ]
        },
        {
          "metadata": {
            "tags": null
          },
          "name": "stdout",
          "output_type": "stream",
          "text": [
            "INFO:tensorflow:Initializing the TPU system: grpc://10.27.255.10:8470\n"
          ]
        },
        {
          "metadata": {
            "tags": null
          },
          "name": "stderr",
          "output_type": "stream",
          "text": [
            "INFO:tensorflow:Initializing the TPU system: grpc://10.27.255.10:8470\n"
          ]
        },
        {
          "metadata": {
            "tags": null
          },
          "name": "stdout",
          "output_type": "stream",
          "text": [
            "INFO:tensorflow:Finished initializing TPU system.\n"
          ]
        },
        {
          "metadata": {
            "tags": null
          },
          "name": "stderr",
          "output_type": "stream",
          "text": [
            "INFO:tensorflow:Finished initializing TPU system.\n"
          ]
        },
        {
          "output_type": "stream",
          "name": "stdout",
          "text": [
            "Downloading data from https://github.com/Callidior/keras-applications/releases/download/efficientnet/efficientnet-b7_weights_tf_dim_ordering_tf_kernels_autoaugment_notop.h5\n",
            "258441216/258434480 [==============================] - 6s 0us/step\n",
            "258449408/258434480 [==============================] - 6s 0us/step\n",
            "Epoch 1/18\n",
            "\n",
            "Epoch 00001: LearningRateScheduler setting learning rate to 0.0001.\n",
            "2187/2187 [==============================] - 2230s 771ms/step - loss: 0.4769 - auc: 0.8266\n",
            "Epoch 2/18\n",
            "\n",
            "Epoch 00002: LearningRateScheduler setting learning rate to 0.00038666666666666667.\n",
            "2187/2187 [==============================] - 1703s 778ms/step - loss: 0.4502 - auc: 0.8433\n",
            "Epoch 3/18\n",
            "\n",
            "Epoch 00003: LearningRateScheduler setting learning rate to 0.0006733333333333334.\n",
            "2187/2187 [==============================] - 1700s 777ms/step - loss: 0.4421 - auc: 0.8480\n",
            "Epoch 4/18\n",
            "\n",
            "Epoch 00004: LearningRateScheduler setting learning rate to 0.00096.\n",
            "2187/2187 [==============================] - 1698s 776ms/step - loss: 0.4351 - auc: 0.8539\n",
            "Epoch 5/18\n",
            "\n",
            "Epoch 00005: LearningRateScheduler setting learning rate to 0.00067203.\n",
            "2187/2187 [==============================] - 1706s 780ms/step - loss: 0.4239 - auc: 0.8618\n",
            "Epoch 6/18\n",
            "\n",
            "Epoch 00006: LearningRateScheduler setting learning rate to 0.000470451.\n",
            "2187/2187 [==============================] - 1701s 778ms/step - loss: 0.4179 - auc: 0.8651\n",
            "Epoch 7/18\n",
            "\n",
            "Epoch 00007: LearningRateScheduler setting learning rate to 0.00032934569999999995.\n",
            "2187/2187 [==============================] - 1698s 776ms/step - loss: 0.4109 - auc: 0.8694\n",
            "Epoch 8/18\n",
            "\n",
            "Epoch 00008: LearningRateScheduler setting learning rate to 0.00023057198999999997.\n",
            "2187/2187 [==============================] - 1703s 779ms/step - loss: 0.4051 - auc: 0.8726\n",
            "Epoch 9/18\n",
            "\n",
            "Epoch 00009: LearningRateScheduler setting learning rate to 0.00016143039299999995.\n",
            "2187/2187 [==============================] - 1706s 780ms/step - loss: 0.4041 - auc: 0.8739\n",
            "Epoch 10/18\n",
            "\n",
            "Epoch 00010: LearningRateScheduler setting learning rate to 0.00011303127509999997.\n",
            " 601/2187 [=======>......................] - ETA: 20:36 - loss: 0.4037 - auc: 0.8745"
          ]
        }
      ]
    },
    {
      "cell_type": "code",
      "metadata": {
        "id": "uZUFgn86OSpS"
      },
      "source": [
        "model = get_model()\n",
        "model.load_weights(\"Temp.h5\", options=options)\n",
        "\n",
        "print(model.summary())\n",
        "  "
      ],
      "execution_count": null,
      "outputs": []
    },
    {
      "cell_type": "code",
      "metadata": {
        "id": "i7sSICLwzP6D"
      },
      "source": [
        "dataset = get_val_test_dataset(TESTING_FILENAMES, ordered=True, labeled=False)\n",
        "image = dataset.map(lambda image, image_id: image)\n",
        "test_predictions = model.predict(image).astype(np.float32).reshape(-1)\n",
        "\t# Get the test set image_id\n",
        "image_id = dataset.map(lambda image, image_id: image_id).unbatch()\n",
        "image_id = next(iter(image_id.batch(NUM_TESTING_IMAGES))).numpy().astype('U')\n",
        "\t# Create dataframe output\n",
        "test_df = pd.DataFrame({'id': image_id, 'target': test_predictions})\n",
        "\t# Save test dataframe to disk\t\n",
        "test_df.to_csv(f'TEST_EfficientNetB7_{IMAGE_SIZE[0]}_{SEED}.csv', index=False)"
      ],
      "execution_count": null,
      "outputs": []
    },
    {
      "cell_type": "code",
      "metadata": {
        "id": "ae4v8Igmpyuy"
      },
      "source": [
        "4from google.colab import files\n",
        "files.upload()\n",
        "!nvidia-smi\n",
        "!pip install --ignore-installed --upgrade kaggle\n",
        "! mkdir ~/.kaggle\n",
        "! cp kaggle.json ~/.kaggle/\n",
        "! chmod 600 ~/.kaggle/kaggle.json"
      ],
      "execution_count": null,
      "outputs": []
    },
    {
      "cell_type": "code",
      "metadata": {
        "id": "felfDntns8wz"
      },
      "source": [
        "!kaggle competitions submit -c g2net-gravitational-wave-detection -f /content/TEST_EfficientNetB7_384_1991_CQT.csv -m \"Message\""
      ],
      "execution_count": null,
      "outputs": []
    },
    {
      "cell_type": "code",
      "metadata": {
        "id": "v-BAKjlcBtdI"
      },
      "source": [
        "!cp  -r /content/models/fold2.h5 \"/content/drive/MyDrive/models/Bandpass CWT\""
      ],
      "execution_count": null,
      "outputs": []
    }
  ]
}