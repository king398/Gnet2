{
 "cells": [
  {
   "cell_type": "markdown",
   "id": "65103e0e",
   "metadata": {
    "papermill": {
     "duration": 0.024218,
     "end_time": "2021-08-23T15:00:09.464661",
     "exception": false,
     "start_time": "2021-08-23T15:00:09.440443",
     "status": "completed"
    },
    "tags": []
   },
   "source": [
    "## About this notebook\n",
    "\n",
    "This notebook is based on [CQT G2Net EfficientNetB1[TPU Training]](https://www.kaggle.com/miklgr500/cqt-g2net-efficientnetb7-tpu-training-w-b) by [Welf Crozzo](https://www.kaggle.com/miklgr500) and [nnAudio Constant Q-transform Demonstration](https://www.kaggle.com/atamazian/nnaudio-constant-q-transform-demonstration) by [Araik Tamazian](https://www.kaggle.com/atamazian).\n",
    "\n",
    "This notebook use Constant Q-Transform for feature extraction and EfficientNetB0 for classification. The whole pipeline is implemented with Tensorflow, and the training process runs on TPU.\n",
    "\n",
    "The main difference between this notebook and Welf's notebook is the use of on-the-fly CQT computation implemented with Tensorflow, which is similar to the idea of [nnAudio](https://github.com/KinWaiCheuk/nnAudio)'s [CQT1992v2](https://kinwaicheuk.github.io/nnAudio/_autosummary/nnAudio.Spectrogram.CQT1992v2.html?highlight=cqt1992v2#nnAudio.Spectrogram.CQT1992v2) layer.\n",
    "\n",
    "* [Inference Notebook](https://www.kaggle.com/hidehisaarai1213/g2net-tf-on-the-fly-cqt-tpu-inference)"
   ]
  },
  {
   "cell_type": "markdown",
   "id": "6222cb7a",
   "metadata": {
    "papermill": {
     "duration": 0.024359,
     "end_time": "2021-08-23T15:00:09.513591",
     "exception": false,
     "start_time": "2021-08-23T15:00:09.489232",
     "status": "completed"
    },
    "tags": []
   },
   "source": [
    "## Install Dependencies"
   ]
  },
  {
   "cell_type": "code",
   "execution_count": 1,
   "id": "7110d57d",
   "metadata": {
    "execution": {
     "iopub.execute_input": "2021-08-23T15:00:09.575936Z",
     "iopub.status.busy": "2021-08-23T15:00:09.573867Z",
     "iopub.status.idle": "2021-08-23T15:00:19.488189Z",
     "shell.execute_reply": "2021-08-23T15:00:19.486864Z",
     "shell.execute_reply.started": "2021-08-13T14:28:17.064087Z"
    },
    "papermill": {
     "duration": 9.948341,
     "end_time": "2021-08-23T15:00:19.488412",
     "exception": false,
     "start_time": "2021-08-23T15:00:09.540071",
     "status": "completed"
    },
    "tags": []
   },
   "outputs": [
    {
     "name": "stdout",
     "output_type": "stream",
     "text": [
      "\u001B[33mWARNING: Running pip as root will break packages and permissions. You should install packages reliably by using venv: https://pip.pypa.io/warnings/venv\u001B[0m\r\n"
     ]
    }
   ],
   "source": [
    "!pip install efficientnet tensorflow_addons > / dev / null"
   ]
  },
  {
   "cell_type": "code",
   "execution_count": 2,
   "id": "f5d5adce",
   "metadata": {
    "execution": {
     "iopub.execute_input": "2021-08-23T15:00:19.545713Z",
     "iopub.status.busy": "2021-08-23T15:00:19.544950Z",
     "iopub.status.idle": "2021-08-23T15:00:27.554564Z",
     "shell.execute_reply": "2021-08-23T15:00:27.553935Z",
     "shell.execute_reply.started": "2021-08-13T14:28:43.372713Z"
    },
    "papermill": {
     "duration": 8.042086,
     "end_time": "2021-08-23T15:00:27.554724",
     "exception": false,
     "start_time": "2021-08-23T15:00:19.512638",
     "status": "completed"
    },
    "tags": []
   },
   "outputs": [],
   "source": [
    "import os\n",
    "import math\n",
    "import random\n",
    "import re\n",
    "import warnings\n",
    "from pathlib import Path\n",
    "from typing import Optional, Tuple\n",
    "\n",
    "import efficientnet.tfkeras as efn\n",
    "import matplotlib.pyplot as plt\n",
    "import numpy as np\n",
    "import pandas as pd\n",
    "import seaborn as sns\n",
    "import tensorflow as tf\n",
    "import tensorflow_addons as tfa\n",
    "from kaggle_datasets import KaggleDatasets\n",
    "from scipy.signal import get_window\n",
    "from sklearn.model_selection import KFold\n",
    "from sklearn.metrics import roc_auc_score"
   ]
  },
  {
   "cell_type": "code",
   "execution_count": 3,
   "id": "3abf12a3",
   "metadata": {
    "execution": {
     "iopub.execute_input": "2021-08-23T15:00:27.610422Z",
     "iopub.status.busy": "2021-08-23T15:00:27.609533Z",
     "iopub.status.idle": "2021-08-23T15:00:27.613170Z",
     "shell.execute_reply": "2021-08-23T15:00:27.613693Z",
     "shell.execute_reply.started": "2021-08-13T14:28:58.627868Z"
    },
    "papermill": {
     "duration": 0.035764,
     "end_time": "2021-08-23T15:00:27.613884",
     "exception": false,
     "start_time": "2021-08-23T15:00:27.578120",
     "status": "completed"
    },
    "tags": []
   },
   "outputs": [
    {
     "data": {
      "text/plain": [
       "'2.4.1'"
      ]
     },
     "execution_count": 3,
     "metadata": {},
     "output_type": "execute_result"
    }
   ],
   "source": [
    "tf.__version__"
   ]
  },
  {
   "cell_type": "markdown",
   "id": "04ac2517",
   "metadata": {
    "papermill": {
     "duration": 0.023082,
     "end_time": "2021-08-23T15:00:27.660629",
     "exception": false,
     "start_time": "2021-08-23T15:00:27.637547",
     "status": "completed"
    },
    "tags": []
   },
   "source": [
    "## Config"
   ]
  },
  {
   "cell_type": "code",
   "execution_count": 4,
   "id": "10239094",
   "metadata": {
    "execution": {
     "iopub.execute_input": "2021-08-23T15:00:27.716081Z",
     "iopub.status.busy": "2021-08-23T15:00:27.715031Z",
     "iopub.status.idle": "2021-08-23T15:00:27.718163Z",
     "shell.execute_reply": "2021-08-23T15:00:27.717504Z",
     "shell.execute_reply.started": "2021-08-13T14:29:39.494237Z"
    },
    "papermill": {
     "duration": 0.033978,
     "end_time": "2021-08-23T15:00:27.718321",
     "exception": false,
     "start_time": "2021-08-23T15:00:27.684343",
     "status": "completed"
    },
    "tags": []
   },
   "outputs": [],
   "source": [
    "NUM_FOLDS = 4\n",
    "IMAGE_SIZE = 256\n",
    "BATCH_SIZE = 32\n",
    "EFFICIENTNET_SIZE = 7\n",
    "WEIGHTS = \"noisy-student\"\n",
    "\n",
    "MIXUP_PROB = 0.0\n",
    "EPOCHS = 20\n",
    "R_ANGLE = 0 / 180 * np.pi\n",
    "S_SHIFT = 0.0\n",
    "T_SHIFT = 0.0\n",
    "LABEL_POSITIVE_SHIFT = 0.99"
   ]
  },
  {
   "cell_type": "code",
   "execution_count": 5,
   "id": "39e1debb",
   "metadata": {
    "execution": {
     "iopub.execute_input": "2021-08-23T15:00:27.773909Z",
     "iopub.status.busy": "2021-08-23T15:00:27.772806Z",
     "iopub.status.idle": "2021-08-23T15:00:27.776622Z",
     "shell.execute_reply": "2021-08-23T15:00:27.776008Z",
     "shell.execute_reply.started": "2021-08-13T14:30:35.748754Z"
    },
    "papermill": {
     "duration": 0.034551,
     "end_time": "2021-08-23T15:00:27.776783",
     "exception": false,
     "start_time": "2021-08-23T15:00:27.742232",
     "status": "completed"
    },
    "tags": []
   },
   "outputs": [],
   "source": [
    "SAVEDIR = Path(\"models\")\n",
    "SAVEDIR.mkdir(exist_ok=True)\n",
    "\n",
    "OOFDIR = Path(\"oof\")\n",
    "OOFDIR.mkdir(exist_ok=True)"
   ]
  },
  {
   "cell_type": "markdown",
   "id": "00fac4ff",
   "metadata": {
    "papermill": {
     "duration": 0.024627,
     "end_time": "2021-08-23T15:00:27.825980",
     "exception": false,
     "start_time": "2021-08-23T15:00:27.801353",
     "status": "completed"
    },
    "tags": []
   },
   "source": [
    "## Utilities"
   ]
  },
  {
   "cell_type": "code",
   "execution_count": 6,
   "id": "a690194f",
   "metadata": {
    "execution": {
     "iopub.execute_input": "2021-08-23T15:00:27.878096Z",
     "iopub.status.busy": "2021-08-23T15:00:27.877434Z",
     "iopub.status.idle": "2021-08-23T15:00:27.883828Z",
     "shell.execute_reply": "2021-08-23T15:00:27.883256Z",
     "shell.execute_reply.started": "2021-08-13T14:30:57.215523Z"
    },
    "papermill": {
     "duration": 0.034124,
     "end_time": "2021-08-23T15:00:27.883990",
     "exception": false,
     "start_time": "2021-08-23T15:00:27.849866",
     "status": "completed"
    },
    "tags": []
   },
   "outputs": [],
   "source": [
    "def set_seed(seed=42):\n",
    "\trandom.seed(seed)\n",
    "\tos.environ[\"PYTHONHASHSEED\"] = str(seed)\n",
    "\tnp.random.seed(seed)\n",
    "\ttf.random.set_seed(seed)\n",
    "\n",
    "\n",
    "set_seed(1213)"
   ]
  },
  {
   "cell_type": "code",
   "execution_count": 7,
   "id": "5c43d958",
   "metadata": {
    "execution": {
     "iopub.execute_input": "2021-08-23T15:00:27.936104Z",
     "iopub.status.busy": "2021-08-23T15:00:27.935277Z",
     "iopub.status.idle": "2021-08-23T15:00:27.941681Z",
     "shell.execute_reply": "2021-08-23T15:00:27.942235Z",
     "shell.execute_reply.started": "2021-08-13T14:31:06.127317Z"
    },
    "papermill": {
     "duration": 0.034717,
     "end_time": "2021-08-23T15:00:27.942440",
     "exception": false,
     "start_time": "2021-08-23T15:00:27.907723",
     "status": "completed"
    },
    "tags": []
   },
   "outputs": [],
   "source": [
    "def auto_select_accelerator():\n",
    "\tTPU_DETECTED = False\n",
    "\ttry:\n",
    "\t\ttpu = tf.distribute.cluster_resolver.TPUClusterResolver()\n",
    "\t\ttf.config.experimental_connect_to_cluster(tpu)\n",
    "\t\ttf.tpu.experimental.initialize_tpu_system(tpu)\n",
    "\t\tstrategy = tf.distribute.experimental.TPUStrategy(tpu)\n",
    "\t\tprint(\"Running on TPU:\", tpu.master())\n",
    "\t\tTPU_DETECTED = True\n",
    "\texcept ValueError:\n",
    "\t\tstrategy = tf.distribute.get_strategy()\n",
    "\tprint(f\"Running on {strategy.num_replicas_in_sync} replicas\")\n",
    "\n",
    "\treturn strategy, TPU_DETECTED"
   ]
  },
  {
   "cell_type": "code",
   "execution_count": 8,
   "id": "f3b7175c",
   "metadata": {
    "execution": {
     "iopub.execute_input": "2021-08-23T15:00:27.995951Z",
     "iopub.status.busy": "2021-08-23T15:00:27.995093Z",
     "iopub.status.idle": "2021-08-23T15:00:34.340841Z",
     "shell.execute_reply": "2021-08-23T15:00:34.340148Z",
     "shell.execute_reply.started": "2021-08-13T14:31:22.521209Z"
    },
    "papermill": {
     "duration": 6.374738,
     "end_time": "2021-08-23T15:00:34.341035",
     "exception": false,
     "start_time": "2021-08-23T15:00:27.966297",
     "status": "completed"
    },
    "tags": []
   },
   "outputs": [
    {
     "name": "stdout",
     "output_type": "stream",
     "text": [
      "Running on TPU: grpc://10.0.0.2:8470\n",
      "Running on 8 replicas\n"
     ]
    }
   ],
   "source": [
    "strategy, tpu_detected = auto_select_accelerator()\n",
    "AUTO = tf.data.experimental.AUTOTUNE\n",
    "REPLICAS = strategy.num_replicas_in_sync"
   ]
  },
  {
   "cell_type": "markdown",
   "id": "296c9b80",
   "metadata": {
    "papermill": {
     "duration": 0.02452,
     "end_time": "2021-08-23T15:00:34.389748",
     "exception": false,
     "start_time": "2021-08-23T15:00:34.365228",
     "status": "completed"
    },
    "tags": []
   },
   "source": [
    "## Data Loading"
   ]
  },
  {
   "cell_type": "code",
   "execution_count": 9,
   "id": "7f8ddb47",
   "metadata": {
    "execution": {
     "iopub.execute_input": "2021-08-23T15:00:34.456168Z",
     "iopub.status.busy": "2021-08-23T15:00:34.455367Z",
     "iopub.status.idle": "2021-08-23T15:00:36.471079Z",
     "shell.execute_reply": "2021-08-23T15:00:36.471634Z",
     "shell.execute_reply.started": "2021-08-13T14:33:26.735358Z"
    },
    "papermill": {
     "duration": 2.057755,
     "end_time": "2021-08-23T15:00:36.471835",
     "exception": false,
     "start_time": "2021-08-23T15:00:34.414080",
     "status": "completed"
    },
    "tags": []
   },
   "outputs": [
    {
     "name": "stdout",
     "output_type": "stream",
     "text": [
      "gs://kds-7e745d03ff3d4499c58a10d7349fa8aa147fa55dbe731f6211d8c6e9\n",
      "gs://kds-020b02965217d87ff0612db80f9fb40b3b083301f4c8712c5e9b223b\n",
      "gs://kds-a60d913c520bd7a57d5118d8bf7a362d3189c197ae6227d5328116bd\n",
      "gs://kds-a036528a8c80b6121af39348073b8c6547933b850ff8c7a01e8e3895\n"
     ]
    }
   ],
   "source": [
    "gcs_paths = []\n",
    "for i, j in [(0, 4), (5, 9), (10, 14), (15, 19)]:\n",
    "\tGCS_path = KaggleDatasets().get_gcs_path(f\"g2net-waveform-tfrecords-train-{i}-{j}\")\n",
    "\tgcs_paths.append(GCS_path)\n",
    "\tprint(GCS_path)"
   ]
  },
  {
   "cell_type": "code",
   "execution_count": 10,
   "id": "1ff7eb74",
   "metadata": {
    "execution": {
     "iopub.execute_input": "2021-08-23T15:00:36.530036Z",
     "iopub.status.busy": "2021-08-23T15:00:36.529295Z",
     "iopub.status.idle": "2021-08-23T15:00:36.819353Z",
     "shell.execute_reply": "2021-08-23T15:00:36.818331Z",
     "shell.execute_reply.started": "2021-08-13T14:33:39.324965Z"
    },
    "papermill": {
     "duration": 0.322242,
     "end_time": "2021-08-23T15:00:36.819555",
     "exception": false,
     "start_time": "2021-08-23T15:00:36.497313",
     "status": "completed"
    },
    "tags": []
   },
   "outputs": [
    {
     "name": "stdout",
     "output_type": "stream",
     "text": [
      "train_files:  20\n"
     ]
    }
   ],
   "source": [
    "all_files = []\n",
    "for path in gcs_paths:\n",
    "\tall_files.extend(np.sort(np.array(tf.io.gfile.glob(path + \"/train*.tfrecords\"))))\n",
    "\n",
    "print(\"train_files: \", len(all_files))"
   ]
  },
  {
   "cell_type": "markdown",
   "id": "9b2c8575",
   "metadata": {
    "papermill": {
     "duration": 0.025073,
     "end_time": "2021-08-23T15:00:36.870408",
     "exception": false,
     "start_time": "2021-08-23T15:00:36.845335",
     "status": "completed"
    },
    "tags": []
   },
   "source": [
    "## Dataset Preparation\n",
    "\n",
    "Here's the main contribution of this notebook - Tensorflow version of on-the-fly CQT computation. Note that some of the operations used in CQT computation are not supported by TPU, therefore the implementation is not a TF layer but a function that runs on CPU."
   ]
  },
  {
   "cell_type": "code",
   "execution_count": 11,
   "id": "16bd9dc3",
   "metadata": {
    "execution": {
     "iopub.execute_input": "2021-08-23T15:00:36.943505Z",
     "iopub.status.busy": "2021-08-23T15:00:36.942697Z",
     "iopub.status.idle": "2021-08-23T15:00:36.944867Z",
     "shell.execute_reply": "2021-08-23T15:00:36.945439Z",
     "shell.execute_reply.started": "2021-08-13T14:35:52.659171Z"
    },
    "papermill": {
     "duration": 0.049653,
     "end_time": "2021-08-23T15:00:36.945662",
     "exception": false,
     "start_time": "2021-08-23T15:00:36.896009",
     "status": "completed"
    },
    "tags": []
   },
   "outputs": [],
   "source": [
    "def create_cqt_kernels(\n",
    "\t\tq: float,\n",
    "\t\tfs: float,\n",
    "\t\tfmin: float,\n",
    "\t\tn_bins: int = 84,\n",
    "\t\tbins_per_octave: int = 12,\n",
    "\t\tnorm: float = 1,\n",
    "\t\twindow: str = \"hann\",\n",
    "\t\tfmax: Optional[float] = None,\n",
    "\t\ttopbin_check: bool = True\n",
    ") -> Tuple[np.ndarray, int, np.ndarray, float]:\n",
    "\tfft_len = 2 ** _nextpow2(np.ceil(q * fs / fmin))\n",
    "\n",
    "\tif (fmax is not None) and (n_bins is None):\n",
    "\t\tn_bins = np.ceil(bins_per_octave * np.log2(fmax / fmin))\n",
    "\t\tfreqs = fmin * 2.0 ** (np.r_[0:n_bins] / np.float(bins_per_octave))\n",
    "\telif (fmax is None) and (n_bins is not None):\n",
    "\t\tfreqs = fmin * 2.0 ** (np.r_[0:n_bins] / np.float(bins_per_octave))\n",
    "\telse:\n",
    "\t\twarnings.warn(\"If nmax is given, n_bins will be ignored\", SyntaxWarning)\n",
    "\t\tn_bins = np.ceil(bins_per_octave * np.log2(fmax / fmin))\n",
    "\t\tfreqs = fmin * 2.0 ** (np.r_[0:n_bins] / np.float(bins_per_octave))\n",
    "\n",
    "\tif np.max(freqs) > fs / 2 and topbin_check:\n",
    "\t\traise ValueError(f\"The top bin {np.max(freqs)} Hz has exceeded the Nyquist frequency, \\\n",
    "                           please reduce the `n_bins`\")\n",
    "\n",
    "\tkernel = np.zeros((int(n_bins), int(fft_len)), dtype=np.complex64)\n",
    "\n",
    "\tlength = np.ceil(q * fs / freqs)\n",
    "\tfor k in range(0, int(n_bins)):\n",
    "\t\tfreq = freqs[k]\n",
    "\t\tl = np.ceil(q * fs / freq)\n",
    "\n",
    "\t\tif l % 2 == 1:\n",
    "\t\t\tstart = int(np.ceil(fft_len / 2.0 - l / 2.0)) - 1\n",
    "\t\telse:\n",
    "\t\t\tstart = int(np.ceil(fft_len / 2.0 - l / 2.0))\n",
    "\n",
    "\t\tsig = get_window(window, int(l), fftbins=True) * np.exp(\n",
    "\t\t\tnp.r_[-l // 2:l // 2] * 1j * 2 * np.pi * freq / fs) / l\n",
    "\n",
    "\t\tif norm:\n",
    "\t\t\tkernel[k, start:start + int(l)] = sig / np.linalg.norm(sig, norm)\n",
    "\t\telse:\n",
    "\t\t\tkernel[k, start:start + int(l)] = sig\n",
    "\treturn kernel, fft_len, length, freqs\n",
    "\n",
    "\n",
    "def _nextpow2(a: float) -> int:\n",
    "\treturn int(np.ceil(np.log2(a)))\n",
    "\n",
    "\n",
    "def prepare_cqt_kernel(\n",
    "\t\tsr=22050,\n",
    "\t\thop_length=512,\n",
    "\t\tfmin=32.70,\n",
    "\t\tfmax=None,\n",
    "\t\tn_bins=84,\n",
    "\t\tbins_per_octave=12,\n",
    "\t\tnorm=1,\n",
    "\t\tfilter_scale=1,\n",
    "\t\twindow=\"hann\"\n",
    "):\n",
    "\tq = float(filter_scale) / (2 ** (1 / bins_per_octave) - 1)\n",
    "\tprint(q)\n",
    "\treturn create_cqt_kernels(q, sr, fmin, n_bins, bins_per_octave, norm, window, fmax)"
   ]
  },
  {
   "cell_type": "code",
   "execution_count": 12,
   "id": "12913814",
   "metadata": {
    "execution": {
     "iopub.execute_input": "2021-08-23T15:00:37.001709Z",
     "iopub.status.busy": "2021-08-23T15:00:37.000956Z",
     "iopub.status.idle": "2021-08-23T15:00:37.070961Z",
     "shell.execute_reply": "2021-08-23T15:00:37.071512Z",
     "shell.execute_reply.started": "2021-08-13T14:36:08.796878Z"
    },
    "papermill": {
     "duration": 0.099883,
     "end_time": "2021-08-23T15:00:37.071732",
     "exception": false,
     "start_time": "2021-08-23T15:00:36.971849",
     "status": "completed"
    },
    "tags": []
   },
   "outputs": [
    {
     "name": "stdout",
     "output_type": "stream",
     "text": [
      "34.12708770892056\n"
     ]
    },
    {
     "name": "stderr",
     "output_type": "stream",
     "text": [
      "/opt/conda/lib/python3.7/site-packages/ipykernel_launcher.py:20: SyntaxWarning: If nmax is given, n_bins will be ignored\n"
     ]
    }
   ],
   "source": [
    "HOP_LENGTH = 16\n",
    "cqt_kernels, KERNEL_WIDTH, lengths, _ = prepare_cqt_kernel(\n",
    "\tsr=2048,\n",
    "\thop_length=HOP_LENGTH,\n",
    "\tfmin=20,\n",
    "\tfmax=1024,\n",
    "\tbins_per_octave=24)\n",
    "LENGTHS = tf.constant(lengths, dtype=tf.float32)\n",
    "CQT_KERNELS_REAL = tf.constant(np.swapaxes(cqt_kernels.real[:, np.newaxis, :], 0, 2))\n",
    "CQT_KERNELS_IMAG = tf.constant(np.swapaxes(cqt_kernels.imag[:, np.newaxis, :], 0, 2))\n",
    "PADDING = tf.constant([[0, 0],\n",
    "                       [KERNEL_WIDTH // 2, KERNEL_WIDTH // 2],\n",
    "                       [0, 0]])"
   ]
  },
  {
   "cell_type": "code",
   "execution_count": 13,
   "id": "29805763",
   "metadata": {
    "execution": {
     "iopub.execute_input": "2021-08-23T15:00:37.128724Z",
     "iopub.status.busy": "2021-08-23T15:00:37.127615Z",
     "iopub.status.idle": "2021-08-23T15:00:37.136849Z",
     "shell.execute_reply": "2021-08-23T15:00:37.137408Z",
     "shell.execute_reply.started": "2021-08-13T14:36:23.457264Z"
    },
    "papermill": {
     "duration": 0.039556,
     "end_time": "2021-08-23T15:00:37.137634",
     "exception": false,
     "start_time": "2021-08-23T15:00:37.098078",
     "status": "completed"
    },
    "tags": []
   },
   "outputs": [],
   "source": [
    "from CWT.cwt import ComplexMorletCWT\n",
    "\n",
    "cwt_transform = ComplexMorletCWT(wavelet_width=8, fs=2048, lower_freq=20, upper_freq=500, n_scales=IMAGE_SIZE,\n",
    "                                 stride=int(np.ceil(4096 / IMAGE_SIZE)), output='magnitude',\n",
    "                                 data_format='channels_first')\n",
    "\n",
    "\n",
    "def create_cqt_image(wave, hop_length=16):\n",
    "\tCQTs = []\n",
    "\n",
    "\n",
    "\n",
    "\tprint(tf.squeeze(wave).shape)\n",
    "\tCQT = cwt_transform(tf.squeeze(wave))\n",
    "\tCQTs.append(CQT)\n",
    "\treturn CQTs"
   ]
  },
  {
   "cell_type": "code",
   "execution_count": 14,
   "id": "eab367b5",
   "metadata": {
    "execution": {
     "iopub.execute_input": "2021-08-23T15:00:37.225935Z",
     "iopub.status.busy": "2021-08-23T15:00:37.225037Z",
     "iopub.status.idle": "2021-08-23T15:00:37.228972Z",
     "shell.execute_reply": "2021-08-23T15:00:37.228395Z",
     "shell.execute_reply.started": "2021-08-13T14:36:40.632207Z"
    },
    "papermill": {
     "duration": 0.065442,
     "end_time": "2021-08-23T15:00:37.229133",
     "exception": false,
     "start_time": "2021-08-23T15:00:37.163691",
     "status": "completed"
    },
    "tags": []
   },
   "outputs": [],
   "source": [
    "def read_labeled_tfrecord(example):\n",
    "\ttfrec_format = {\n",
    "\t\t\"wave\": tf.io.FixedLenFeature([], tf.string),\n",
    "\t\t\"wave_id\": tf.io.FixedLenFeature([], tf.string),\n",
    "\t\t\"target\": tf.io.FixedLenFeature([], tf.int64)\n",
    "\t}\n",
    "\texample = tf.io.parse_single_example(example, tfrec_format)\n",
    "\treturn prepare_image(example[\"wave\"], IMAGE_SIZE), tf.reshape(tf.cast(example[\"target\"], tf.float32), [1])\n",
    "\n",
    "\n",
    "def read_unlabeled_tfrecord(example, return_image_id):\n",
    "\ttfrec_format = {\n",
    "\t\t\"wave\": tf.io.FixedLenFeature([], tf.string),\n",
    "\t\t\"wave_id\": tf.io.FixedLenFeature([], tf.string)\n",
    "\t}\n",
    "\texample = tf.io.parse_single_example(example, tfrec_format)\n",
    "\treturn prepare_image(example[\"wave\"], IMAGE_SIZE), example[\"wave_id\"] if return_image_id else 0\n",
    "\n",
    "\n",
    "def count_data_items(fileids):\n",
    "\treturn len(fileids) * 28000\n",
    "\n",
    "\n",
    "def count_data_items_test(fileids):\n",
    "\treturn len(fileids) * 22600\n",
    "\n",
    "\n",
    "def mixup(image, label, probability=0.5, aug_batch=64 * 8):\n",
    "\timgs = []\n",
    "\tlabs = []\n",
    "\tfor j in range(aug_batch):\n",
    "\t\tp = tf.cast(tf.random.uniform([], 0, 1) <= probability, tf.float32)\n",
    "\t\tk = tf.cast(tf.random.uniform([], 0, aug_batch), tf.int32)\n",
    "\t\ta = tf.random.uniform([], 0, 1) * p\n",
    "\n",
    "\t\timg1 = image[j]\n",
    "\t\timg2 = image[k]\n",
    "\t\timgs.append((1 - a) * img1 + a * img2)\n",
    "\t\tlab1 = label[j]\n",
    "\t\tlab2 = label[k]\n",
    "\t\tlabs.append((1 - a) * lab1 + a * lab2)\n",
    "\timage2 = tf.reshape(tf.stack(imgs), (aug_batch, IMAGE_SIZE, IMAGE_SIZE, 3))\n",
    "\tlabel2 = tf.reshape(tf.stack(labs), (aug_batch,))\n",
    "\treturn image2, label2\n",
    "\n",
    "\n",
    "def time_shift(img, shift=T_SHIFT):\n",
    "\tif shift > 0:\n",
    "\t\tT = IMAGE_SIZE\n",
    "\t\tP = tf.random.uniform([], 0, 1)\n",
    "\t\tSHIFT = tf.cast(T * P, tf.int32)\n",
    "\t\treturn tf.concat([img[-SHIFT:], img[:-SHIFT]], axis=0)\n",
    "\treturn img\n",
    "\n",
    "\n",
    "def rotate(img, angle=R_ANGLE):\n",
    "\tif angle > 0:\n",
    "\t\tP = tf.random.uniform([], 0, 1)\n",
    "\t\tA = tf.cast(angle * P, tf.float32)\n",
    "\t\treturn tfa.image.rotate(img, A)\n",
    "\treturn img\n",
    "\n",
    "\n",
    "def spector_shift(img, shift=S_SHIFT):\n",
    "\tif shift > 0:\n",
    "\t\tT = IMAGE_SIZE\n",
    "\t\tP = tf.random.uniform([], 0, 1)\n",
    "\t\tSHIFT = tf.cast(T * P, tf.int32)\n",
    "\t\treturn tf.concat([img[:, -SHIFT:], img[:, :-SHIFT]], axis=1)\n",
    "\treturn img\n",
    "\n",
    "\n",
    "def img_aug_f(img):\n",
    "\timg = time_shift(img)\n",
    "\timg = spector_shift(img)\n",
    "\t# img = rotate(img)\n",
    "\treturn img\n",
    "\n",
    "\n",
    "def imgs_aug_f(imgs, batch_size):\n",
    "\t_imgs = []\n",
    "\tDIM = IMAGE_SIZE\n",
    "\tfor j in range(batch_size):\n",
    "\t\t_imgs.append(img_aug_f(imgs[j]))\n",
    "\treturn tf.reshape(tf.stack(_imgs), (batch_size, DIM, DIM, 3))\n",
    "\n",
    "\n",
    "def label_positive_shift(labels):\n",
    "\treturn labels * LABEL_POSITIVE_SHIFT\n",
    "\n",
    "\n",
    "def aug_f(imgs, labels, batch_size):\n",
    "\timgs, label = mixup(imgs, labels, MIXUP_PROB, batch_size)\n",
    "\timgs = imgs_aug_f(imgs, batch_size)\n",
    "\treturn imgs, label_positive_shift(label)\n",
    "\n",
    "\n",
    "def prepare_image(wave, dim=256):\n",
    "\twave = tf.reshape(tf.io.decode_raw(wave, tf.float64), (3, 4096))\n",
    "\tnormalized_waves = []\n",
    "\tfor i in range(3):\n",
    "\t\tnormalized_wave = wave[i] / tf.math.reduce_max(wave[i])\n",
    "\t\tnormalized_waves.append(normalized_wave)\n",
    "\twave = tf.stack(normalized_waves)\n",
    "\twave = tf.cast(wave, tf.float32)\n",
    "\timage = create_cqt_image(wave, HOP_LENGTH)\n",
    "\timage = tf.image.resize(image, size=(dim, dim))\n",
    "\treturn tf.reshape(image, (dim, dim, 3))\n",
    "\n",
    "\n",
    "def get_dataset(files, batch_size=16, repeat=False, shuffle=False, aug=True, labeled=True, return_image_ids=True):\n",
    "\tds = tf.data.TFRecordDataset(files, num_parallel_reads=AUTO, compression_type=\"GZIP\")\n",
    "\tds = ds.cache()\n",
    "\n",
    "\tif repeat:\n",
    "\t\tds = ds.repeat()\n",
    "\n",
    "\tif shuffle:\n",
    "\t\tds = ds.shuffle(1024 * 2)\n",
    "\t\topt = tf.data.Options()\n",
    "\t\topt.experimental_deterministic = False\n",
    "\t\tds = ds.with_options(opt)\n",
    "\n",
    "\tif labeled:\n",
    "\t\tds = ds.map(read_labeled_tfrecord, num_parallel_calls=AUTO)\n",
    "\telse:\n",
    "\t\tds = ds.map(lambda example: read_unlabeled_tfrecord(example, return_image_ids), num_parallel_calls=AUTO)\n",
    "\n",
    "\tds = ds.batch(batch_size * REPLICAS)\n",
    "\tif aug:\n",
    "\t\tds = ds.map(lambda x, y: aug_f(x, y, batch_size * REPLICAS), num_parallel_calls=AUTO)\n",
    "\tds = ds.prefetch(AUTO)\n",
    "\treturn ds"
   ]
  },
  {
   "cell_type": "markdown",
   "id": "3cc11fe9",
   "metadata": {
    "papermill": {
     "duration": 0.026364,
     "end_time": "2021-08-23T15:00:37.281786",
     "exception": false,
     "start_time": "2021-08-23T15:00:37.255422",
     "status": "completed"
    },
    "tags": []
   },
   "source": [
    "## Model"
   ]
  },
  {
   "cell_type": "code",
   "execution_count": 15,
   "id": "d17cade2",
   "metadata": {
    "execution": {
     "iopub.execute_input": "2021-08-23T15:00:37.347192Z",
     "iopub.status.busy": "2021-08-23T15:00:37.346374Z",
     "iopub.status.idle": "2021-08-23T15:00:37.349526Z",
     "shell.execute_reply": "2021-08-23T15:00:37.348978Z",
     "shell.execute_reply.started": "2021-08-13T14:37:09.546498Z"
    },
    "papermill": {
     "duration": 0.04167,
     "end_time": "2021-08-23T15:00:37.349680",
     "exception": false,
     "start_time": "2021-08-23T15:00:37.308010",
     "status": "completed"
    },
    "tags": []
   },
   "outputs": [],
   "source": [
    "def build_model(size=256, efficientnet_size=0, weights=\"imagenet\", count=0):\n",
    "\tinputs = tf.keras.layers.Input(shape=(size, size, 3))\n",
    "\n",
    "\tefn_string = f\"EfficientNetB{efficientnet_size}\"\n",
    "\tefn_layer = getattr(efn, efn_string)(input_shape=(size, size, 3), weights=weights, include_top=False)\n",
    "\n",
    "\tx = efn_layer(inputs)\n",
    "\tx = tf.keras.layers.GlobalAveragePooling2D()(x)\n",
    "\n",
    "\tx = tf.keras.layers.Dropout(0.2)(x)\n",
    "\tx = tf.keras.layers.Dense(1, activation=\"sigmoid\")(x)\n",
    "\tmodel = tf.keras.Model(inputs=inputs, outputs=x)\n",
    "\n",
    "\tlr_decayed_fn = tf.keras.experimental.CosineDecay(1e-3, count)\n",
    "\topt = tfa.optimizers.AdamW(lr_decayed_fn, learning_rate=1e-4)\n",
    "\tloss = tf.keras.losses.BinaryCrossentropy()\n",
    "\tmodel.compile(optimizer=opt, loss=loss, metrics=[\"AUC\"])\n",
    "\treturn model"
   ]
  },
  {
   "cell_type": "code",
   "execution_count": 16,
   "id": "ea96f922",
   "metadata": {
    "execution": {
     "iopub.execute_input": "2021-08-23T15:00:37.412243Z",
     "iopub.status.busy": "2021-08-23T15:00:37.411344Z",
     "iopub.status.idle": "2021-08-23T15:00:37.413771Z",
     "shell.execute_reply": "2021-08-23T15:00:37.414293Z",
     "shell.execute_reply.started": "2021-08-13T14:37:20.515265Z"
    },
    "papermill": {
     "duration": 0.038644,
     "end_time": "2021-08-23T15:00:37.414533",
     "exception": false,
     "start_time": "2021-08-23T15:00:37.375889",
     "status": "completed"
    },
    "tags": []
   },
   "outputs": [],
   "source": [
    "def get_lr_callback(batch_size=8, replicas=8):\n",
    "\tlr_start = 1e-4\n",
    "\tlr_max = 0.000015 * replicas * batch_size\n",
    "\tlr_min = 1e-7\n",
    "\tlr_ramp_ep = 3\n",
    "\tlr_sus_ep = 0\n",
    "\tlr_decay = 0.7\n",
    "\n",
    "\tdef lrfn(epoch):\n",
    "\t\tif epoch < lr_ramp_ep:\n",
    "\t\t\tlr = (lr_max - lr_start) / lr_ramp_ep * epoch + lr_start\n",
    "\n",
    "\t\telif epoch < lr_ramp_ep + lr_sus_ep:\n",
    "\t\t\tlr = lr_max\n",
    "\n",
    "\t\telse:\n",
    "\t\t\tlr = (lr_max - lr_min) * lr_decay ** (epoch - lr_ramp_ep - lr_sus_ep) + lr_min\n",
    "\n",
    "\t\treturn lr\n",
    "\n",
    "\tlr_callback = tf.keras.callbacks.LearningRateScheduler(lrfn, verbose=True)\n",
    "\treturn lr_callback"
   ]
  },
  {
   "cell_type": "markdown",
   "id": "5e6bf6aa",
   "metadata": {
    "papermill": {
     "duration": 0.027326,
     "end_time": "2021-08-23T15:00:37.469262",
     "exception": false,
     "start_time": "2021-08-23T15:00:37.441936",
     "status": "completed"
    },
    "tags": []
   },
   "source": [
    "## Training"
   ]
  },
  {
   "cell_type": "code",
   "execution_count": 17,
   "id": "5a8a7ce6",
   "metadata": {
    "execution": {
     "iopub.execute_input": "2021-08-23T15:00:37.530144Z",
     "iopub.status.busy": "2021-08-23T15:00:37.529237Z",
     "iopub.status.idle": "2021-08-23T15:00:37.534157Z",
     "shell.execute_reply": "2021-08-23T15:00:37.534737Z",
     "shell.execute_reply.started": "2021-08-13T14:37:39.542538Z"
    },
    "papermill": {
     "duration": 0.037775,
     "end_time": "2021-08-23T15:00:37.534969",
     "exception": false,
     "start_time": "2021-08-23T15:00:37.497194",
     "status": "completed"
    },
    "tags": []
   },
   "outputs": [],
   "source": [
    "kf = KFold(n_splits=NUM_FOLDS, shuffle=True, random_state=1213)\n",
    "oof_pred = []\n",
    "oof_target = []\n",
    "\n",
    "files_train_all = np.array(all_files)"
   ]
  },
  {
   "cell_type": "code",
   "execution_count": 18,
   "id": "d9c02d2a",
   "metadata": {
    "execution": {
     "iopub.execute_input": "2021-08-23T15:00:37.592489Z",
     "iopub.status.busy": "2021-08-23T15:00:37.591709Z",
     "iopub.status.idle": "2021-08-23T21:31:10.239579Z",
     "shell.execute_reply": "2021-08-23T21:31:10.237257Z",
     "shell.execute_reply.started": "2021-08-13T14:38:04.590308Z"
    },
    "papermill": {
     "duration": 23432.678442,
     "end_time": "2021-08-23T21:31:10.239768",
     "exception": false,
     "start_time": "2021-08-23T15:00:37.561326",
     "status": "completed"
    },
    "tags": []
   },
   "outputs": [
    {
     "name": "stdout",
     "output_type": "stream",
     "text": [
      "========================================================================================================================\n",
      "Fold 0\n",
      "========================================================================================================================\n",
      "Running on TPU: grpc://10.0.0.2:8470\n",
      "Running on 8 replicas\n",
      "Downloading data from https://github.com/qubvel/efficientnet/releases/download/v0.0.1/efficientnet-b7_noisy-student_notop.h5\n",
      "258072576/258068648 [==============================] - 4s 0us/step\n",
      "Epoch 1/20\n",
      "\n",
      "Epoch 00001: LearningRateScheduler reducing learning rate to 0.0001.\n",
      "410/410 [==============================] - 544s 694ms/step - loss: 0.6189 - auc: 0.6765 - val_loss: 0.7271 - val_auc: 0.5031\n",
      "\n",
      "Epoch 00001: val_auc improved from -inf to 0.50307, saving model to models/fold0.h5\n",
      "Epoch 2/20\n",
      "\n",
      "Epoch 00002: LearningRateScheduler reducing learning rate to 0.0013466666666666668.\n",
      "410/410 [==============================] - 251s 612ms/step - loss: 0.5235 - auc: 0.7969 - val_loss: 0.4547 - val_auc: 0.8459\n",
      "\n",
      "Epoch 00002: val_auc improved from 0.50307 to 0.84594, saving model to models/fold0.h5\n",
      "Epoch 3/20\n",
      "\n",
      "Epoch 00003: LearningRateScheduler reducing learning rate to 0.0025933333333333333.\n",
      "410/410 [==============================] - 251s 612ms/step - loss: 0.4871 - auc: 0.8300 - val_loss: 0.5306 - val_auc: 0.8344\n",
      "\n",
      "Epoch 00003: val_auc did not improve from 0.84594\n",
      "Epoch 4/20\n",
      "\n",
      "Epoch 00004: LearningRateScheduler reducing learning rate to 0.00384.\n",
      "410/410 [==============================] - 251s 612ms/step - loss: 0.4758 - auc: 0.8363 - val_loss: 0.5728 - val_auc: 0.8460\n",
      "\n",
      "Epoch 00004: val_auc improved from 0.84594 to 0.84596, saving model to models/fold0.h5\n",
      "Epoch 5/20\n",
      "\n",
      "Epoch 00005: LearningRateScheduler reducing learning rate to 0.0026880299999999997.\n",
      "410/410 [==============================] - 250s 611ms/step - loss: 0.4593 - auc: 0.8473 - val_loss: 0.6136 - val_auc: 0.8497\n",
      "\n",
      "Epoch 00005: val_auc improved from 0.84596 to 0.84975, saving model to models/fold0.h5\n",
      "Epoch 6/20\n",
      "\n",
      "Epoch 00006: LearningRateScheduler reducing learning rate to 0.001881651.\n",
      "410/410 [==============================] - 251s 612ms/step - loss: 0.4512 - auc: 0.8538 - val_loss: 0.4338 - val_auc: 0.8593\n",
      "\n",
      "Epoch 00006: val_auc improved from 0.84975 to 0.85926, saving model to models/fold0.h5\n",
      "Epoch 7/20\n",
      "\n",
      "Epoch 00007: LearningRateScheduler reducing learning rate to 0.0013171856999999998.\n",
      "410/410 [==============================] - 250s 611ms/step - loss: 0.4465 - auc: 0.8576 - val_loss: 0.4418 - val_auc: 0.8575\n",
      "\n",
      "Epoch 00007: val_auc did not improve from 0.85926\n",
      "Epoch 8/20\n",
      "\n",
      "Epoch 00008: LearningRateScheduler reducing learning rate to 0.0009220599899999999.\n",
      "410/410 [==============================] - 251s 612ms/step - loss: 0.4390 - auc: 0.8630 - val_loss: 0.4303 - val_auc: 0.8621\n",
      "\n",
      "Epoch 00008: val_auc improved from 0.85926 to 0.86207, saving model to models/fold0.h5\n",
      "Epoch 9/20\n",
      "\n",
      "Epoch 00009: LearningRateScheduler reducing learning rate to 0.0006454719929999997.\n",
      "410/410 [==============================] - 250s 611ms/step - loss: 0.4367 - auc: 0.8628 - val_loss: 0.4283 - val_auc: 0.8634\n",
      "\n",
      "Epoch 00009: val_auc improved from 0.86207 to 0.86345, saving model to models/fold0.h5\n",
      "Epoch 10/20\n",
      "\n",
      "Epoch 00010: LearningRateScheduler reducing learning rate to 0.00045186039509999986.\n",
      "410/410 [==============================] - 250s 610ms/step - loss: 0.4356 - auc: 0.8638 - val_loss: 0.4347 - val_auc: 0.8646\n",
      "\n",
      "Epoch 00010: val_auc improved from 0.86345 to 0.86463, saving model to models/fold0.h5\n",
      "Epoch 11/20\n",
      "\n",
      "Epoch 00011: LearningRateScheduler reducing learning rate to 0.00031633227656999987.\n",
      "410/410 [==============================] - 253s 618ms/step - loss: 0.4323 - auc: 0.8661 - val_loss: 0.4257 - val_auc: 0.8651\n",
      "\n",
      "Epoch 00011: val_auc improved from 0.86463 to 0.86512, saving model to models/fold0.h5\n",
      "Epoch 12/20\n",
      "\n",
      "Epoch 00012: LearningRateScheduler reducing learning rate to 0.0002214625935989999.\n",
      "410/410 [==============================] - 251s 613ms/step - loss: 0.4286 - auc: 0.8691 - val_loss: 0.4228 - val_auc: 0.8655\n",
      "\n",
      "Epoch 00012: val_auc improved from 0.86512 to 0.86546, saving model to models/fold0.h5\n",
      "Epoch 13/20\n",
      "\n",
      "Epoch 00013: LearningRateScheduler reducing learning rate to 0.00015505381551929993.\n",
      "410/410 [==============================] - 251s 613ms/step - loss: 0.4256 - auc: 0.8703 - val_loss: 0.4257 - val_auc: 0.8658\n",
      "\n",
      "Epoch 00013: val_auc improved from 0.86546 to 0.86579, saving model to models/fold0.h5\n",
      "Epoch 14/20\n",
      "\n",
      "Epoch 00014: LearningRateScheduler reducing learning rate to 0.00010856767086350995.\n",
      "410/410 [==============================] - 251s 611ms/step - loss: 0.4278 - auc: 0.8691 - val_loss: 0.4207 - val_auc: 0.8664\n",
      "\n",
      "Epoch 00014: val_auc improved from 0.86579 to 0.86636, saving model to models/fold0.h5\n",
      "Epoch 15/20\n",
      "\n",
      "Epoch 00015: LearningRateScheduler reducing learning rate to 7.602736960445695e-05.\n",
      "410/410 [==============================] - 251s 613ms/step - loss: 0.4250 - auc: 0.8707 - val_loss: 0.4204 - val_auc: 0.8663\n",
      "\n",
      "Epoch 00015: val_auc did not improve from 0.86636\n",
      "Epoch 16/20\n",
      "\n",
      "Epoch 00016: LearningRateScheduler reducing learning rate to 5.324915872311987e-05.\n",
      "410/410 [==============================] - 251s 612ms/step - loss: 0.4222 - auc: 0.8731 - val_loss: 0.4209 - val_auc: 0.8662\n",
      "\n",
      "Epoch 00016: val_auc did not improve from 0.86636\n",
      "Epoch 17/20\n",
      "\n",
      "Epoch 00017: LearningRateScheduler reducing learning rate to 3.7304411106183906e-05.\n",
      "410/410 [==============================] - 251s 612ms/step - loss: 0.4223 - auc: 0.8718 - val_loss: 0.4214 - val_auc: 0.8661\n",
      "\n",
      "Epoch 00017: val_auc did not improve from 0.86636\n",
      "Epoch 18/20\n",
      "\n",
      "Epoch 00018: LearningRateScheduler reducing learning rate to 2.614308777432873e-05.\n",
      "410/410 [==============================] - 250s 611ms/step - loss: 0.4232 - auc: 0.8720 - val_loss: 0.4205 - val_auc: 0.8664\n",
      "\n",
      "Epoch 00018: val_auc improved from 0.86636 to 0.86640, saving model to models/fold0.h5\n",
      "Epoch 19/20\n",
      "\n",
      "Epoch 00019: LearningRateScheduler reducing learning rate to 1.833016144203011e-05.\n",
      "410/410 [==============================] - 251s 612ms/step - loss: 0.4218 - auc: 0.8734 - val_loss: 0.4205 - val_auc: 0.8663\n",
      "\n",
      "Epoch 00019: val_auc did not improve from 0.86640\n",
      "Epoch 20/20\n",
      "\n",
      "Epoch 00020: LearningRateScheduler reducing learning rate to 1.2861113009421077e-05.\n",
      "410/410 [==============================] - 251s 612ms/step - loss: 0.4213 - auc: 0.8739 - val_loss: 0.4204 - val_auc: 0.8663\n",
      "\n",
      "Epoch 00020: val_auc did not improve from 0.86640\n",
      "Loading best model...\n"
     ]
    },
    {
     "name": "stderr",
     "output_type": "stream",
     "text": [
      "/opt/conda/lib/python3.7/site-packages/seaborn/distributions.py:2557: FutureWarning: `distplot` is a deprecated function and will be removed in a future version. Please adapt your code to use either `displot` (a figure-level function with similar flexibility) or `histplot` (an axes-level function for histograms).\n",
      "  warnings.warn(msg, FutureWarning)\n"
     ]
    },
    {
     "data": {
      "image/png": "[encoded data removed]",
      "text/plain": [
       "<Figure size 576x432 with 1 Axes>"
      ]
     },
     "metadata": {
      "needs_background": "light"
     },
     "output_type": "display_data"
    },
    {
     "data": {
      "image/png": "[encoded data removed]",
      "text/plain": [
       "<Figure size 1080x360 with 2 Axes>"
      ]
     },
     "metadata": {
      "needs_background": "light"
     },
     "output_type": "display_data"
    },
    {
     "name": "stdout",
     "output_type": "stream",
     "text": [
      "========================================================================================================================\n",
      "Fold 1\n",
      "========================================================================================================================\n",
      "Running on TPU: grpc://10.0.0.2:8470\n",
      "Running on 8 replicas\n",
      "Epoch 1/20\n",
      "\n",
      "Epoch 00001: LearningRateScheduler reducing learning rate to 0.0001.\n",
      "410/410 [==============================] - 537s 659ms/step - loss: 0.6167 - auc: 0.6773 - val_loss: 0.7668 - val_auc: 0.4949\n",
      "\n",
      "Epoch 00001: val_auc improved from -inf to 0.49490, saving model to models/fold1.h5\n",
      "Epoch 2/20\n",
      "\n",
      "Epoch 00002: LearningRateScheduler reducing learning rate to 0.0013466666666666668.\n",
      "410/410 [==============================] - 252s 615ms/step - loss: 0.5218 - auc: 0.7945 - val_loss: 0.6241 - val_auc: 0.7790\n",
      "\n",
      "Epoch 00002: val_auc improved from 0.49490 to 0.77904, saving model to models/fold1.h5\n",
      "Epoch 3/20\n",
      "\n",
      "Epoch 00003: LearningRateScheduler reducing learning rate to 0.0025933333333333333.\n",
      "410/410 [==============================] - 252s 616ms/step - loss: 0.4892 - auc: 0.8251 - val_loss: 0.6695 - val_auc: 0.8275\n",
      "\n",
      "Epoch 00003: val_auc improved from 0.77904 to 0.82754, saving model to models/fold1.h5\n",
      "Epoch 4/20\n",
      "\n",
      "Epoch 00004: LearningRateScheduler reducing learning rate to 0.00384.\n",
      "410/410 [==============================] - 252s 616ms/step - loss: 0.4735 - auc: 0.8372 - val_loss: 1.0090 - val_auc: 0.8341\n",
      "\n",
      "Epoch 00004: val_auc improved from 0.82754 to 0.83406, saving model to models/fold1.h5\n",
      "Epoch 5/20\n",
      "\n",
      "Epoch 00005: LearningRateScheduler reducing learning rate to 0.0026880299999999997.\n",
      "410/410 [==============================] - 252s 616ms/step - loss: 0.4595 - auc: 0.8482 - val_loss: 0.5021 - val_auc: 0.8429\n",
      "\n",
      "Epoch 00005: val_auc improved from 0.83406 to 0.84290, saving model to models/fold1.h5\n",
      "Epoch 6/20\n",
      "\n",
      "Epoch 00006: LearningRateScheduler reducing learning rate to 0.001881651.\n",
      "410/410 [==============================] - 252s 615ms/step - loss: 0.4474 - auc: 0.8565 - val_loss: 0.4401 - val_auc: 0.8562\n",
      "\n",
      "Epoch 00006: val_auc improved from 0.84290 to 0.85617, saving model to models/fold1.h5\n",
      "Epoch 7/20\n",
      "\n",
      "Epoch 00007: LearningRateScheduler reducing learning rate to 0.0013171856999999998.\n",
      "410/410 [==============================] - 253s 617ms/step - loss: 0.4463 - auc: 0.8573 - val_loss: 0.4345 - val_auc: 0.8601\n",
      "\n",
      "Epoch 00007: val_auc improved from 0.85617 to 0.86006, saving model to models/fold1.h5\n",
      "Epoch 8/20\n",
      "\n",
      "Epoch 00008: LearningRateScheduler reducing learning rate to 0.0009220599899999999.\n",
      "410/410 [==============================] - 253s 617ms/step - loss: 0.4408 - auc: 0.8604 - val_loss: 0.4303 - val_auc: 0.8626\n",
      "\n",
      "Epoch 00008: val_auc improved from 0.86006 to 0.86258, saving model to models/fold1.h5\n",
      "Epoch 9/20\n",
      "\n",
      "Epoch 00009: LearningRateScheduler reducing learning rate to 0.0006454719929999997.\n",
      "410/410 [==============================] - 253s 617ms/step - loss: 0.4365 - auc: 0.8641 - val_loss: 0.4546 - val_auc: 0.8606\n",
      "\n",
      "Epoch 00009: val_auc did not improve from 0.86258\n",
      "Epoch 10/20\n",
      "\n",
      "Epoch 00010: LearningRateScheduler reducing learning rate to 0.00045186039509999986.\n",
      "410/410 [==============================] - 252s 616ms/step - loss: 0.4326 - auc: 0.8655 - val_loss: 0.4287 - val_auc: 0.8613\n",
      "\n",
      "Epoch 00010: val_auc did not improve from 0.86258\n",
      "Epoch 11/20\n",
      "\n",
      "Epoch 00011: LearningRateScheduler reducing learning rate to 0.00031633227656999987.\n",
      "410/410 [==============================] - 253s 617ms/step - loss: 0.4329 - auc: 0.8657 - val_loss: 0.4233 - val_auc: 0.8649\n",
      "\n",
      "Epoch 00011: val_auc improved from 0.86258 to 0.86493, saving model to models/fold1.h5\n",
      "Epoch 12/20\n",
      "\n",
      "Epoch 00012: LearningRateScheduler reducing learning rate to 0.0002214625935989999.\n",
      "410/410 [==============================] - 253s 618ms/step - loss: 0.4311 - auc: 0.8663 - val_loss: 0.4234 - val_auc: 0.8654\n",
      "\n",
      "Epoch 00012: val_auc improved from 0.86493 to 0.86537, saving model to models/fold1.h5\n",
      "Epoch 13/20\n",
      "\n",
      "Epoch 00013: LearningRateScheduler reducing learning rate to 0.00015505381551929993.\n",
      "410/410 [==============================] - 253s 618ms/step - loss: 0.4272 - auc: 0.8704 - val_loss: 0.4274 - val_auc: 0.8651\n",
      "\n",
      "Epoch 00013: val_auc did not improve from 0.86537\n",
      "Epoch 14/20\n",
      "\n",
      "Epoch 00014: LearningRateScheduler reducing learning rate to 0.00010856767086350995.\n",
      "410/410 [==============================] - 253s 617ms/step - loss: 0.4251 - auc: 0.8706 - val_loss: 0.4223 - val_auc: 0.8654\n",
      "\n",
      "Epoch 00014: val_auc did not improve from 0.86537\n",
      "Epoch 15/20\n",
      "\n",
      "Epoch 00015: LearningRateScheduler reducing learning rate to 7.602736960445695e-05.\n",
      "410/410 [==============================] - 253s 617ms/step - loss: 0.4265 - auc: 0.8699 - val_loss: 0.4216 - val_auc: 0.8659\n",
      "\n",
      "Epoch 00015: val_auc improved from 0.86537 to 0.86594, saving model to models/fold1.h5\n",
      "Epoch 16/20\n",
      "\n",
      "Epoch 00016: LearningRateScheduler reducing learning rate to 5.324915872311987e-05.\n",
      "410/410 [==============================] - 253s 617ms/step - loss: 0.4254 - auc: 0.8701 - val_loss: 0.4217 - val_auc: 0.8661\n",
      "\n",
      "Epoch 00016: val_auc improved from 0.86594 to 0.86605, saving model to models/fold1.h5\n",
      "Epoch 17/20\n",
      "\n",
      "Epoch 00017: LearningRateScheduler reducing learning rate to 3.7304411106183906e-05.\n",
      "410/410 [==============================] - 253s 618ms/step - loss: 0.4230 - auc: 0.8727 - val_loss: 0.4215 - val_auc: 0.8661\n",
      "\n",
      "Epoch 00017: val_auc improved from 0.86605 to 0.86608, saving model to models/fold1.h5\n",
      "Epoch 18/20\n",
      "\n",
      "Epoch 00018: LearningRateScheduler reducing learning rate to 2.614308777432873e-05.\n",
      "410/410 [==============================] - 253s 617ms/step - loss: 0.4187 - auc: 0.8743 - val_loss: 0.4212 - val_auc: 0.8661\n",
      "\n",
      "Epoch 00018: val_auc improved from 0.86608 to 0.86611, saving model to models/fold1.h5\n",
      "Epoch 19/20\n",
      "\n",
      "Epoch 00019: LearningRateScheduler reducing learning rate to 1.833016144203011e-05.\n",
      "410/410 [==============================] - 253s 618ms/step - loss: 0.4241 - auc: 0.8710 - val_loss: 0.4212 - val_auc: 0.8661\n",
      "\n",
      "Epoch 00019: val_auc improved from 0.86611 to 0.86614, saving model to models/fold1.h5\n",
      "Epoch 20/20\n",
      "\n",
      "Epoch 00020: LearningRateScheduler reducing learning rate to 1.2861113009421077e-05.\n",
      "410/410 [==============================] - 252s 616ms/step - loss: 0.4228 - auc: 0.8720 - val_loss: 0.4212 - val_auc: 0.8662\n",
      "\n",
      "Epoch 00020: val_auc improved from 0.86614 to 0.86622, saving model to models/fold1.h5\n",
      "Loading best model...\n"
     ]
    },
    {
     "name": "stderr",
     "output_type": "stream",
     "text": [
      "/opt/conda/lib/python3.7/site-packages/seaborn/distributions.py:2557: FutureWarning: `distplot` is a deprecated function and will be removed in a future version. Please adapt your code to use either `displot` (a figure-level function with similar flexibility) or `histplot` (an axes-level function for histograms).\n",
      "  warnings.warn(msg, FutureWarning)\n"
     ]
    },
    {
     "data": {
      "image/png": "[encoded data removed]",
      "text/plain": [
       "<Figure size 576x432 with 1 Axes>"
      ]
     },
     "metadata": {
      "needs_background": "light"
     },
     "output_type": "display_data"
    },
    {
     "data": {
      "image/png": "[encoded data removed]",
      "text/plain": [
       "<Figure size 1080x360 with 2 Axes>"
      ]
     },
     "metadata": {
      "needs_background": "light"
     },
     "output_type": "display_data"
    },
    {
     "name": "stdout",
     "output_type": "stream",
     "text": [
      "========================================================================================================================\n",
      "Fold 2\n",
      "========================================================================================================================\n",
      "Running on TPU: grpc://10.0.0.2:8470\n",
      "Running on 8 replicas\n",
      "Epoch 1/20\n",
      "\n",
      "Epoch 00001: LearningRateScheduler reducing learning rate to 0.0001.\n",
      "410/410 [==============================] - 537s 657ms/step - loss: 0.6188 - auc: 0.6736 - val_loss: 0.7641 - val_auc: 0.5010\n",
      "\n",
      "Epoch 00001: val_auc improved from -inf to 0.50105, saving model to models/fold2.h5\n",
      "Epoch 2/20\n",
      "\n",
      "Epoch 00002: LearningRateScheduler reducing learning rate to 0.0013466666666666668.\n",
      "410/410 [==============================] - 249s 608ms/step - loss: 0.5259 - auc: 0.7947 - val_loss: 0.5032 - val_auc: 0.8244\n",
      "\n",
      "Epoch 00002: val_auc improved from 0.50105 to 0.82438, saving model to models/fold2.h5\n",
      "Epoch 3/20\n",
      "\n",
      "Epoch 00003: LearningRateScheduler reducing learning rate to 0.0025933333333333333.\n",
      "410/410 [==============================] - 250s 611ms/step - loss: 0.4832 - auc: 0.8308 - val_loss: 0.4692 - val_auc: 0.8378\n",
      "\n",
      "Epoch 00003: val_auc improved from 0.82438 to 0.83780, saving model to models/fold2.h5\n",
      "Epoch 4/20\n",
      "\n",
      "Epoch 00004: LearningRateScheduler reducing learning rate to 0.00384.\n",
      "410/410 [==============================] - 251s 611ms/step - loss: 0.4742 - auc: 0.8358 - val_loss: 0.4586 - val_auc: 0.8477\n",
      "\n",
      "Epoch 00004: val_auc improved from 0.83780 to 0.84767, saving model to models/fold2.h5\n",
      "Epoch 5/20\n",
      "\n",
      "Epoch 00005: LearningRateScheduler reducing learning rate to 0.0026880299999999997.\n",
      "410/410 [==============================] - 253s 617ms/step - loss: 0.4598 - auc: 0.8486 - val_loss: 0.6675 - val_auc: 0.8428\n",
      "\n",
      "Epoch 00005: val_auc did not improve from 0.84767\n",
      "Epoch 6/20\n",
      "\n",
      "Epoch 00006: LearningRateScheduler reducing learning rate to 0.001881651.\n",
      "410/410 [==============================] - 250s 610ms/step - loss: 0.4516 - auc: 0.8533 - val_loss: 0.5237 - val_auc: 0.8249\n",
      "\n",
      "Epoch 00006: val_auc did not improve from 0.84767\n",
      "Epoch 7/20\n",
      "\n",
      "Epoch 00007: LearningRateScheduler reducing learning rate to 0.0013171856999999998.\n",
      "410/410 [==============================] - 250s 611ms/step - loss: 0.4452 - auc: 0.8580 - val_loss: 0.4497 - val_auc: 0.8578\n",
      "\n",
      "Epoch 00007: val_auc improved from 0.84767 to 0.85778, saving model to models/fold2.h5\n",
      "Epoch 8/20\n",
      "\n",
      "Epoch 00008: LearningRateScheduler reducing learning rate to 0.0009220599899999999.\n",
      "410/410 [==============================] - 250s 611ms/step - loss: 0.4390 - auc: 0.8619 - val_loss: 0.4320 - val_auc: 0.8606\n",
      "\n",
      "Epoch 00008: val_auc improved from 0.85778 to 0.86061, saving model to models/fold2.h5\n",
      "Epoch 9/20\n",
      "\n",
      "Epoch 00009: LearningRateScheduler reducing learning rate to 0.0006454719929999997.\n",
      "410/410 [==============================] - 250s 610ms/step - loss: 0.4363 - auc: 0.8643 - val_loss: 0.4281 - val_auc: 0.8630\n",
      "\n",
      "Epoch 00009: val_auc improved from 0.86061 to 0.86301, saving model to models/fold2.h5\n",
      "Epoch 10/20\n",
      "\n",
      "Epoch 00010: LearningRateScheduler reducing learning rate to 0.00045186039509999986.\n",
      "410/410 [==============================] - 250s 611ms/step - loss: 0.4344 - auc: 0.8647 - val_loss: 0.5245 - val_auc: 0.8533\n",
      "\n",
      "Epoch 00010: val_auc did not improve from 0.86301\n",
      "Epoch 11/20\n",
      "\n",
      "Epoch 00011: LearningRateScheduler reducing learning rate to 0.00031633227656999987.\n",
      "410/410 [==============================] - 250s 610ms/step - loss: 0.4314 - auc: 0.8670 - val_loss: 0.4231 - val_auc: 0.8649\n",
      "\n",
      "Epoch 00011: val_auc improved from 0.86301 to 0.86490, saving model to models/fold2.h5\n",
      "Epoch 12/20\n",
      "\n",
      "Epoch 00012: LearningRateScheduler reducing learning rate to 0.0002214625935989999.\n",
      "410/410 [==============================] - 250s 611ms/step - loss: 0.4280 - auc: 0.8689 - val_loss: 0.4279 - val_auc: 0.8654\n",
      "\n",
      "Epoch 00012: val_auc improved from 0.86490 to 0.86544, saving model to models/fold2.h5\n",
      "Epoch 13/20\n",
      "\n",
      "Epoch 00013: LearningRateScheduler reducing learning rate to 0.00015505381551929993.\n",
      "410/410 [==============================] - 250s 610ms/step - loss: 0.4296 - auc: 0.8673 - val_loss: 0.4225 - val_auc: 0.8656\n",
      "\n",
      "Epoch 00013: val_auc improved from 0.86544 to 0.86558, saving model to models/fold2.h5\n",
      "Epoch 14/20\n",
      "\n",
      "Epoch 00014: LearningRateScheduler reducing learning rate to 0.00010856767086350995.\n",
      "410/410 [==============================] - 250s 610ms/step - loss: 0.4247 - auc: 0.8701 - val_loss: 0.4223 - val_auc: 0.8659\n",
      "\n",
      "Epoch 00014: val_auc improved from 0.86558 to 0.86592, saving model to models/fold2.h5\n",
      "Epoch 15/20\n",
      "\n",
      "Epoch 00015: LearningRateScheduler reducing learning rate to 7.602736960445695e-05.\n",
      "410/410 [==============================] - 250s 610ms/step - loss: 0.4237 - auc: 0.8716 - val_loss: 0.4213 - val_auc: 0.8663\n",
      "\n",
      "Epoch 00015: val_auc improved from 0.86592 to 0.86625, saving model to models/fold2.h5\n",
      "Epoch 16/20\n",
      "\n",
      "Epoch 00016: LearningRateScheduler reducing learning rate to 5.324915872311987e-05.\n",
      "410/410 [==============================] - 250s 610ms/step - loss: 0.4205 - auc: 0.8738 - val_loss: 0.4214 - val_auc: 0.8665\n",
      "\n",
      "Epoch 00016: val_auc improved from 0.86625 to 0.86646, saving model to models/fold2.h5\n",
      "Epoch 17/20\n",
      "\n",
      "Epoch 00017: LearningRateScheduler reducing learning rate to 3.7304411106183906e-05.\n",
      "410/410 [==============================] - 250s 610ms/step - loss: 0.4225 - auc: 0.8722 - val_loss: 0.4214 - val_auc: 0.8663\n",
      "\n",
      "Epoch 00017: val_auc did not improve from 0.86646\n",
      "Epoch 18/20\n",
      "\n",
      "Epoch 00018: LearningRateScheduler reducing learning rate to 2.614308777432873e-05.\n",
      "410/410 [==============================] - 250s 609ms/step - loss: 0.4223 - auc: 0.8723 - val_loss: 0.4213 - val_auc: 0.8664\n",
      "\n",
      "Epoch 00018: val_auc did not improve from 0.86646\n",
      "Epoch 19/20\n",
      "\n",
      "Epoch 00019: LearningRateScheduler reducing learning rate to 1.833016144203011e-05.\n",
      "410/410 [==============================] - 250s 610ms/step - loss: 0.4181 - auc: 0.8754 - val_loss: 0.4210 - val_auc: 0.8664\n",
      "\n",
      "Epoch 00019: val_auc did not improve from 0.86646\n",
      "Epoch 20/20\n",
      "\n",
      "Epoch 00020: LearningRateScheduler reducing learning rate to 1.2861113009421077e-05.\n",
      "410/410 [==============================] - 250s 611ms/step - loss: 0.4185 - auc: 0.8755 - val_loss: 0.4211 - val_auc: 0.8664\n",
      "\n",
      "Epoch 00020: val_auc did not improve from 0.86646\n",
      "Loading best model...\n"
     ]
    },
    {
     "name": "stderr",
     "output_type": "stream",
     "text": [
      "/opt/conda/lib/python3.7/site-packages/seaborn/distributions.py:2557: FutureWarning: `distplot` is a deprecated function and will be removed in a future version. Please adapt your code to use either `displot` (a figure-level function with similar flexibility) or `histplot` (an axes-level function for histograms).\n",
      "  warnings.warn(msg, FutureWarning)\n"
     ]
    },
    {
     "data": {
      "image/png": "[encoded data removed]",
      "text/plain": [
       "<Figure size 576x432 with 1 Axes>"
      ]
     },
     "metadata": {
      "needs_background": "light"
     },
     "output_type": "display_data"
    },
    {
     "data": {
      "image/png": "[encoded data removed]",
      "text/plain": [
       "<Figure size 1080x360 with 2 Axes>"
      ]
     },
     "metadata": {
      "needs_background": "light"
     },
     "output_type": "display_data"
    },
    {
     "name": "stdout",
     "output_type": "stream",
     "text": [
      "========================================================================================================================\n",
      "Fold 3\n",
      "========================================================================================================================\n",
      "Running on TPU: grpc://10.0.0.2:8470\n",
      "Running on 8 replicas\n",
      "Epoch 1/20\n",
      "\n",
      "Epoch 00001: LearningRateScheduler reducing learning rate to 0.0001.\n",
      "410/410 [==============================] - 540s 659ms/step - loss: 0.6204 - auc: 0.6734 - val_loss: 0.7329 - val_auc: 0.4975\n",
      "\n",
      "Epoch 00001: val_auc improved from -inf to 0.49750, saving model to models/fold3.h5\n",
      "Epoch 2/20\n",
      "\n",
      "Epoch 00002: LearningRateScheduler reducing learning rate to 0.0013466666666666668.\n",
      "410/410 [==============================] - 251s 613ms/step - loss: 0.5206 - auc: 0.7987 - val_loss: 0.4550 - val_auc: 0.8479\n",
      "\n",
      "Epoch 00002: val_auc improved from 0.49750 to 0.84793, saving model to models/fold3.h5\n",
      "Epoch 3/20\n",
      "\n",
      "Epoch 00003: LearningRateScheduler reducing learning rate to 0.0025933333333333333.\n",
      "410/410 [==============================] - 251s 613ms/step - loss: 0.4867 - auc: 0.8269 - val_loss: 0.6701 - val_auc: 0.8450\n",
      "\n",
      "Epoch 00003: val_auc did not improve from 0.84793\n",
      "Epoch 4/20\n",
      "\n",
      "Epoch 00004: LearningRateScheduler reducing learning rate to 0.00384.\n",
      "410/410 [==============================] - 251s 613ms/step - loss: 0.4711 - auc: 0.8402 - val_loss: 0.7729 - val_auc: 0.8437\n",
      "\n",
      "Epoch 00004: val_auc did not improve from 0.84793\n",
      "Epoch 5/20\n",
      "\n",
      "Epoch 00005: LearningRateScheduler reducing learning rate to 0.0026880299999999997.\n",
      "410/410 [==============================] - 251s 613ms/step - loss: 0.4617 - auc: 0.8466 - val_loss: 0.4625 - val_auc: 0.8531\n",
      "\n",
      "Epoch 00005: val_auc improved from 0.84793 to 0.85308, saving model to models/fold3.h5\n",
      "Epoch 6/20\n",
      "\n",
      "Epoch 00006: LearningRateScheduler reducing learning rate to 0.001881651.\n",
      "410/410 [==============================] - 251s 614ms/step - loss: 0.4518 - auc: 0.8519 - val_loss: 0.4554 - val_auc: 0.8570\n",
      "\n",
      "Epoch 00006: val_auc improved from 0.85308 to 0.85702, saving model to models/fold3.h5\n",
      "Epoch 7/20\n",
      "\n",
      "Epoch 00007: LearningRateScheduler reducing learning rate to 0.0013171856999999998.\n",
      "410/410 [==============================] - 251s 613ms/step - loss: 0.4487 - auc: 0.8548 - val_loss: 0.4675 - val_auc: 0.8636\n",
      "\n",
      "Epoch 00007: val_auc improved from 0.85702 to 0.86360, saving model to models/fold3.h5\n",
      "Epoch 8/20\n",
      "\n",
      "Epoch 00008: LearningRateScheduler reducing learning rate to 0.0009220599899999999.\n",
      "410/410 [==============================] - 252s 614ms/step - loss: 0.4388 - auc: 0.8619 - val_loss: 0.4278 - val_auc: 0.8659\n",
      "\n",
      "Epoch 00008: val_auc improved from 0.86360 to 0.86587, saving model to models/fold3.h5\n",
      "Epoch 9/20\n",
      "\n",
      "Epoch 00009: LearningRateScheduler reducing learning rate to 0.0006454719929999997.\n",
      "410/410 [==============================] - 251s 613ms/step - loss: 0.4385 - auc: 0.8622 - val_loss: 0.4321 - val_auc: 0.8646\n",
      "\n",
      "Epoch 00009: val_auc did not improve from 0.86587\n",
      "Epoch 10/20\n",
      "\n",
      "Epoch 00010: LearningRateScheduler reducing learning rate to 0.00045186039509999986.\n",
      "410/410 [==============================] - 251s 613ms/step - loss: 0.4340 - auc: 0.8640 - val_loss: 0.4308 - val_auc: 0.8672\n",
      "\n",
      "Epoch 00010: val_auc improved from 0.86587 to 0.86721, saving model to models/fold3.h5\n",
      "Epoch 11/20\n",
      "\n",
      "Epoch 00011: LearningRateScheduler reducing learning rate to 0.00031633227656999987.\n",
      "410/410 [==============================] - 251s 613ms/step - loss: 0.4340 - auc: 0.8644 - val_loss: 0.4211 - val_auc: 0.8676\n",
      "\n",
      "Epoch 00011: val_auc improved from 0.86721 to 0.86759, saving model to models/fold3.h5\n",
      "Epoch 12/20\n",
      "\n",
      "Epoch 00012: LearningRateScheduler reducing learning rate to 0.0002214625935989999.\n",
      "410/410 [==============================] - 251s 614ms/step - loss: 0.4301 - auc: 0.8677 - val_loss: 0.4204 - val_auc: 0.8683\n",
      "\n",
      "Epoch 00012: val_auc improved from 0.86759 to 0.86834, saving model to models/fold3.h5\n",
      "Epoch 13/20\n",
      "\n",
      "Epoch 00013: LearningRateScheduler reducing learning rate to 0.00015505381551929993.\n",
      "410/410 [==============================] - 251s 613ms/step - loss: 0.4283 - auc: 0.8686 - val_loss: 0.4203 - val_auc: 0.8687\n",
      "\n",
      "Epoch 00013: val_auc improved from 0.86834 to 0.86868, saving model to models/fold3.h5\n",
      "Epoch 14/20\n",
      "\n",
      "Epoch 00014: LearningRateScheduler reducing learning rate to 0.00010856767086350995.\n",
      "410/410 [==============================] - 251s 613ms/step - loss: 0.4281 - auc: 0.8674 - val_loss: 0.4221 - val_auc: 0.8689\n",
      "\n",
      "Epoch 00014: val_auc improved from 0.86868 to 0.86893, saving model to models/fold3.h5\n",
      "Epoch 15/20\n",
      "\n",
      "Epoch 00015: LearningRateScheduler reducing learning rate to 7.602736960445695e-05.\n",
      "410/410 [==============================] - 251s 614ms/step - loss: 0.4272 - auc: 0.8696 - val_loss: 0.4206 - val_auc: 0.8692\n",
      "\n",
      "Epoch 00015: val_auc improved from 0.86893 to 0.86919, saving model to models/fold3.h5\n",
      "Epoch 16/20\n",
      "\n",
      "Epoch 00016: LearningRateScheduler reducing learning rate to 5.324915872311987e-05.\n",
      "410/410 [==============================] - 251s 613ms/step - loss: 0.4234 - auc: 0.8712 - val_loss: 0.4183 - val_auc: 0.8694\n",
      "\n",
      "Epoch 00016: val_auc improved from 0.86919 to 0.86936, saving model to models/fold3.h5\n",
      "Epoch 17/20\n",
      "\n",
      "Epoch 00017: LearningRateScheduler reducing learning rate to 3.7304411106183906e-05.\n",
      "410/410 [==============================] - 252s 615ms/step - loss: 0.4232 - auc: 0.8723 - val_loss: 0.4187 - val_auc: 0.8693\n",
      "\n",
      "Epoch 00017: val_auc did not improve from 0.86936\n",
      "Epoch 18/20\n",
      "\n",
      "Epoch 00018: LearningRateScheduler reducing learning rate to 2.614308777432873e-05.\n",
      "410/410 [==============================] - 251s 613ms/step - loss: 0.4204 - auc: 0.8724 - val_loss: 0.4179 - val_auc: 0.8693\n",
      "\n",
      "Epoch 00018: val_auc did not improve from 0.86936\n",
      "Epoch 19/20\n",
      "\n",
      "Epoch 00019: LearningRateScheduler reducing learning rate to 1.833016144203011e-05.\n",
      "410/410 [==============================] - 251s 613ms/step - loss: 0.4235 - auc: 0.8715 - val_loss: 0.4178 - val_auc: 0.8693\n",
      "\n",
      "Epoch 00019: val_auc did not improve from 0.86936\n",
      "Epoch 20/20\n",
      "\n",
      "Epoch 00020: LearningRateScheduler reducing learning rate to 1.2861113009421077e-05.\n",
      "410/410 [==============================] - 251s 614ms/step - loss: 0.4206 - auc: 0.8733 - val_loss: 0.4179 - val_auc: 0.8694\n",
      "\n",
      "Epoch 00020: val_auc improved from 0.86936 to 0.86936, saving model to models/fold3.h5\n",
      "Loading best model...\n"
     ]
    },
    {
     "name": "stderr",
     "output_type": "stream",
     "text": [
      "/opt/conda/lib/python3.7/site-packages/seaborn/distributions.py:2557: FutureWarning: `distplot` is a deprecated function and will be removed in a future version. Please adapt your code to use either `displot` (a figure-level function with similar flexibility) or `histplot` (an axes-level function for histograms).\n",
      "  warnings.warn(msg, FutureWarning)\n"
     ]
    },
    {
     "data": {
      "image/png": "[encoded data removed]",
      "text/plain": [
       "<Figure size 576x432 with 1 Axes>"
      ]
     },
     "metadata": {
      "needs_background": "light"
     },
     "output_type": "display_data"
    },
    {
     "data": {
      "image/png": "[encoded data removed]",
      "text/plain": [
       "<Figure size 1080x360 with 2 Axes>"
      ]
     },
     "metadata": {
      "needs_background": "light"
     },
     "output_type": "display_data"
    }
   ],
   "source": [
    "for fold, (trn_idx, val_idx) in enumerate(kf.split(files_train_all)):\n",
    "\tfiles_train = files_train_all[trn_idx]\n",
    "\tfiles_valid = files_train_all[val_idx]\n",
    "\n",
    "\tprint(\"=\" * 120)\n",
    "\tprint(f\"Fold {fold}\")\n",
    "\tprint(\"=\" * 120)\n",
    "\n",
    "\ttrain_image_count = count_data_items(files_train)\n",
    "\tvalid_image_count = count_data_items(files_valid)\n",
    "\n",
    "\ttf.keras.backend.clear_session()\n",
    "\tstrategy, tpu_detected = auto_select_accelerator()\n",
    "\twith strategy.scope():\n",
    "\t\tmodel = build_model(\n",
    "\t\t\tsize=IMAGE_SIZE,\n",
    "\t\t\tefficientnet_size=EFFICIENTNET_SIZE,\n",
    "\t\t\tweights=WEIGHTS,\n",
    "\t\t\tcount=train_image_count // BATCH_SIZE // REPLICAS // 4)\n",
    "\n",
    "\tmodel_ckpt = tf.keras.callbacks.ModelCheckpoint(\n",
    "\t\tstr(SAVEDIR / f\"fold{fold}.h5\"), monitor=\"val_auc\", verbose=1, save_best_only=True,\n",
    "\t\tsave_weights_only=True, mode=\"max\", save_freq=\"epoch\"\n",
    "\t)\n",
    "\n",
    "\thistory = model.fit(\n",
    "\t\tget_dataset(files_train, batch_size=BATCH_SIZE, shuffle=True, repeat=True, aug=True),\n",
    "\t\tepochs=EPOCHS,\n",
    "\t\tcallbacks=[model_ckpt, get_lr_callback(BATCH_SIZE, REPLICAS)],\n",
    "\t\tsteps_per_epoch=train_image_count // BATCH_SIZE // REPLICAS // 4,\n",
    "\t\tvalidation_data=get_dataset(files_valid, batch_size=BATCH_SIZE * 4, repeat=False, shuffle=False, aug=False),\n",
    "\t\tverbose=1\n",
    "\t)\n",
    "\n",
    "\tprint(\"Loading best model...\")\n",
    "\tmodel.load_weights(str(SAVEDIR / f\"fold{fold}.h5\"))\n",
    "\n",
    "\tds_valid = get_dataset(files_valid, labeled=False, return_image_ids=False, repeat=True, shuffle=False,\n",
    "\t                       batch_size=BATCH_SIZE * 2, aug=False)\n",
    "\tSTEPS = valid_image_count / BATCH_SIZE / 2 / REPLICAS\n",
    "\tpred = model.predict(ds_valid, steps=STEPS, verbose=0)[:valid_image_count]\n",
    "\toof_pred.append(np.mean(pred.reshape((valid_image_count, 1), order=\"F\"), axis=1))\n",
    "\n",
    "\tds_valid = get_dataset(files_valid, repeat=False, labeled=True, return_image_ids=True, aug=False)\n",
    "\toof_target.append(np.array([target.numpy() for img, target in iter(ds_valid.unbatch())]))\n",
    "\n",
    "\tplt.figure(figsize=(8, 6))\n",
    "\tsns.distplot(oof_pred[-1])\n",
    "\tplt.show()\n",
    "\n",
    "\tplt.figure(figsize=(15, 5))\n",
    "\tplt.plot(\n",
    "\t\tnp.arange(len(history.history[\"auc\"])),\n",
    "\t\thistory.history[\"auc\"],\n",
    "\t\t\"-o\",\n",
    "\t\tlabel=\"Train auc\",\n",
    "\t\tcolor=\"#ff7f0e\")\n",
    "\tplt.plot(\n",
    "\t\tnp.arange(len(history.history[\"auc\"])),\n",
    "\t\thistory.history[\"val_auc\"],\n",
    "\t\t\"-o\",\n",
    "\t\tlabel=\"Val auc\",\n",
    "\t\tcolor=\"#1f77b4\")\n",
    "\n",
    "\tx = np.argmax(history.history[\"val_auc\"])\n",
    "\ty = np.max(history.history[\"val_auc\"])\n",
    "\n",
    "\txdist = plt.xlim()[1] - plt.xlim()[0]\n",
    "\tydist = plt.ylim()[1] - plt.ylim()[0]\n",
    "\n",
    "\tplt.scatter(x, y, s=200, color=\"#1f77b4\")\n",
    "\tplt.text(x - 0.03 * xdist, y - 0.13 * ydist, f\"max auc\\n{y}\", size=14)\n",
    "\n",
    "\tplt.ylabel(\"auc\", size=14)\n",
    "\tplt.xlabel(\"Epoch\", size=14)\n",
    "\tplt.legend(loc=2)\n",
    "\n",
    "\tplt2 = plt.gca().twinx()\n",
    "\tplt2.plot(\n",
    "\t\tnp.arange(len(history.history[\"auc\"])),\n",
    "\t\thistory.history[\"loss\"],\n",
    "\t\t\"-o\",\n",
    "\t\tlabel=\"Train Loss\",\n",
    "\t\tcolor=\"#2ca02c\")\n",
    "\tplt2.plot(\n",
    "\t\tnp.arange(len(history.history[\"auc\"])),\n",
    "\t\thistory.history[\"val_loss\"],\n",
    "\t\t\"-o\",\n",
    "\t\tlabel=\"Val Loss\",\n",
    "\t\tcolor=\"#d62728\")\n",
    "\n",
    "\tx = np.argmin(history.history[\"val_loss\"])\n",
    "\ty = np.min(history.history[\"val_loss\"])\n",
    "\n",
    "\tydist = plt.ylim()[1] - plt.ylim()[0]\n",
    "\n",
    "\tplt.scatter(x, y, s=200, color=\"#d62728\")\n",
    "\tplt.text(x - 0.03 * xdist, y + 0.05 * ydist, \"min loss\", size=14)\n",
    "\n",
    "\tplt.ylabel(\"Loss\", size=14)\n",
    "\tplt.title(f\"Fold {fold + 1} - Image Size {IMAGE_SIZE}, EfficientNetB{EFFICIENTNET_SIZE}\", size=18)\n",
    "\n",
    "\tplt.legend(loc=3)\n",
    "\tplt.savefig(OOFDIR / f\"fig{fold}.png\")\n",
    "\tplt.show()"
   ]
  },
  {
   "cell_type": "markdown",
   "id": "9cbdd6a0",
   "metadata": {
    "papermill": {
     "duration": 10.123648,
     "end_time": "2021-08-23T21:31:30.438636",
     "exception": false,
     "start_time": "2021-08-23T21:31:20.314988",
     "status": "completed"
    },
    "tags": []
   },
   "source": [
    "## OOF"
   ]
  },
  {
   "cell_type": "code",
   "execution_count": 19,
   "id": "042baab6",
   "metadata": {
    "execution": {
     "iopub.execute_input": "2021-08-23T21:31:50.523270Z",
     "iopub.status.busy": "2021-08-23T21:31:50.522612Z",
     "iopub.status.idle": "2021-08-23T21:31:50.923309Z",
     "shell.execute_reply": "2021-08-23T21:31:50.922657Z"
    },
    "papermill": {
     "duration": 10.462598,
     "end_time": "2021-08-23T21:31:50.923458",
     "exception": false,
     "start_time": "2021-08-23T21:31:40.460860",
     "status": "completed"
    },
    "tags": []
   },
   "outputs": [
    {
     "name": "stdout",
     "output_type": "stream",
     "text": [
      "AUC: 0.86704\n"
     ]
    }
   ],
   "source": [
    "oof = np.concatenate(oof_pred)\n",
    "true = np.concatenate(oof_target)\n",
    "auc = roc_auc_score(y_true=true, y_score=oof)\n",
    "print(f\"AUC: {auc:.5f}\")"
   ]
  },
  {
   "cell_type": "code",
   "execution_count": 20,
   "id": "bef2ef65",
   "metadata": {
    "execution": {
     "iopub.execute_input": "2021-08-23T21:32:11.171638Z",
     "iopub.status.busy": "2021-08-23T21:32:11.170928Z",
     "iopub.status.idle": "2021-08-23T21:32:11.211350Z",
     "shell.execute_reply": "2021-08-23T21:32:11.210795Z"
    },
    "papermill": {
     "duration": 10.083933,
     "end_time": "2021-08-23T21:32:11.211526",
     "exception": false,
     "start_time": "2021-08-23T21:32:01.127593",
     "status": "completed"
    },
    "tags": []
   },
   "outputs": [
    {
     "data": {
      "text/html": [
       "<div>\n",
       "<style scoped>\n",
       "    .dataframe tbody tr th:only-of-type {\n",
       "        vertical-align: middle;\n",
       "    }\n",
       "\n",
       "    .dataframe tbody tr th {\n",
       "        vertical-align: top;\n",
       "    }\n",
       "\n",
       "    .dataframe thead th {\n",
       "        text-align: right;\n",
       "    }\n",
       "</style>\n",
       "<table border=\"1\" class=\"dataframe\">\n",
       "  <thead>\n",
       "    <tr style=\"text-align: right;\">\n",
       "      <th></th>\n",
       "      <th>y_true</th>\n",
       "      <th>y_pred</th>\n",
       "    </tr>\n",
       "  </thead>\n",
       "  <tbody>\n",
       "    <tr>\n",
       "      <th>0</th>\n",
       "      <td>0.0</td>\n",
       "      <td>0.278341</td>\n",
       "    </tr>\n",
       "    <tr>\n",
       "      <th>1</th>\n",
       "      <td>1.0</td>\n",
       "      <td>0.212681</td>\n",
       "    </tr>\n",
       "    <tr>\n",
       "      <th>2</th>\n",
       "      <td>1.0</td>\n",
       "      <td>0.151865</td>\n",
       "    </tr>\n",
       "    <tr>\n",
       "      <th>3</th>\n",
       "      <td>1.0</td>\n",
       "      <td>0.397035</td>\n",
       "    </tr>\n",
       "    <tr>\n",
       "      <th>4</th>\n",
       "      <td>0.0</td>\n",
       "      <td>0.324365</td>\n",
       "    </tr>\n",
       "  </tbody>\n",
       "</table>\n",
       "</div>"
      ],
      "text/plain": [
       "   y_true    y_pred\n",
       "0     0.0  0.278341\n",
       "1     1.0  0.212681\n",
       "2     1.0  0.151865\n",
       "3     1.0  0.397035\n",
       "4     0.0  0.324365"
      ]
     },
     "execution_count": 20,
     "metadata": {},
     "output_type": "execute_result"
    }
   ],
   "source": [
    "df = pd.DataFrame({\n",
    "\t\"y_true\": true.reshape(-1),\n",
    "\t\"y_pred\": oof\n",
    "})\n",
    "df.head()"
   ]
  },
  {
   "cell_type": "code",
   "execution_count": 21,
   "id": "b804001d",
   "metadata": {
    "execution": {
     "iopub.execute_input": "2021-08-23T21:32:31.250595Z",
     "iopub.status.busy": "2021-08-23T21:32:31.249906Z",
     "iopub.status.idle": "2021-08-23T21:32:33.120648Z",
     "shell.execute_reply": "2021-08-23T21:32:33.119903Z"
    },
    "papermill": {
     "duration": 11.924179,
     "end_time": "2021-08-23T21:32:33.120801",
     "exception": false,
     "start_time": "2021-08-23T21:32:21.196622",
     "status": "completed"
    },
    "tags": []
   },
   "outputs": [],
   "source": [
    "df.to_csv(OOFDIR / f\"oof.csv\", index=False)"
   ]
  },
  {
   "cell_type": "code",
   "execution_count": null,
   "id": "3cf778db",
   "metadata": {
    "papermill": {
     "duration": 10.044622,
     "end_time": "2021-08-23T21:32:53.233351",
     "exception": false,
     "start_time": "2021-08-23T21:32:43.188729",
     "status": "completed"
    },
    "tags": []
   },
   "outputs": [],
   "source": [
    "\n",
    "wave = tf.convert_to_tensor(\n",
    "\tnp.reshape(np.load(\"../input/g2net-gravitational-wave-detection/train/0/4/7/04709de7c0.npy\"), (3, 4096)))\n",
    "print(1)\n",
    "normalized_waves = []\n",
    "print(2)\n",
    "\n",
    "for i in range(3):\n",
    "\tnormalized_wave = wave[i] / tf.math.reduce_max(wave[i])\n",
    "\tnormalized_waves.append(normalized_wave)\n",
    "print(3)\n",
    "\n",
    "wave = tf.stack(normalized_waves)\n",
    "print(4)\n",
    "\n",
    "wave = tf.cast(wave, tf.float32)\n",
    "print(5)\n",
    "\n",
    "image = create_cqt_image(wave, HOP_LENGTH)\n",
    "print(6)"
   ]
  }
 ],
 "metadata": {
  "kernelspec": {
   "display_name": "Python 3",
   "language": "python",
   "name": "python3"
  },
  "language_info": {
   "codemirror_mode": {
    "name": "ipython",
    "version": 3
   },
   "file_extension": ".py",
   "mimetype": "text/x-python",
   "name": "python",
   "nbconvert_exporter": "python",
   "pygments_lexer": "ipython3",
   "version": "3.7.10"
  },
  "papermill": {
   "default_parameters": {},
   "duration": 23585.769086,
   "end_time": "2021-08-23T21:33:06.015824",
   "environment_variables": {},
   "exception": null,
   "input_path": "__notebook__.ipynb",
   "output_path": "__notebook__.ipynb",
   "parameters": {},
   "start_time": "2021-08-23T15:00:00.246738",
   "version": "2.3.3"
  }
 },
 "nbformat": 4,
 "nbformat_minor": 5
}